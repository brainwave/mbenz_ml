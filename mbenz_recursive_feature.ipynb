{
 "cells": [
  {
   "cell_type": "code",
   "execution_count": 1,
   "id": "6b93c7cf",
   "metadata": {},
   "outputs": [],
   "source": [
    "# This Python 3 environment comes with many helpful analytics libraries installed\n",
    "# It is defined by the kaggle/python docker image: https://github.com/kaggle/docker-python\n",
    "# For example, here's several helpful packages to load in \n",
    "\n",
    "import numpy as np\n",
    "from sklearn.base import BaseEstimator,TransformerMixin, ClassifierMixin\n",
    "from sklearn.preprocessing import LabelEncoder\n",
    "import xgboost as xgb\n",
    "import pandas as pd # data processing, CSV file I/O (e.g. pd.read_csv)\n",
    "from sklearn.linear_model import ElasticNetCV, LassoLarsCV\n",
    "from sklearn.ensemble import GradientBoostingRegressor\n",
    "from sklearn.pipeline import make_pipeline, make_union\n",
    "from sklearn.utils import check_array\n",
    "from sklearn.preprocessing import StandardScaler\n",
    "from sklearn.tree import DecisionTreeRegressor\n",
    "from sklearn.random_projection import GaussianRandomProjection\n",
    "from sklearn.random_projection import SparseRandomProjection\n",
    "from sklearn.decomposition import PCA, FastICA\n",
    "from sklearn.decomposition import TruncatedSVD\n",
    "from sklearn.metrics import r2_score"
   ]
  },
  {
   "cell_type": "code",
   "execution_count": 2,
   "id": "ad8f5bba",
   "metadata": {},
   "outputs": [],
   "source": [
    "train = pd.read_csv('dataset/train.csv')\n",
    "test = pd.read_csv('dataset/test.csv')"
   ]
  },
  {
   "cell_type": "code",
   "execution_count": 3,
   "id": "2f3a0fc3",
   "metadata": {},
   "outputs": [],
   "source": [
    "#Issue is - assuming that alphabet code is same across columns. We just care about replacing categorical information with numerical one, so we want uniqueness in a column not across columns.\n",
    "#categorical_variables_list = list(set(train.select_dtypes(include='object').values.flatten()).union(set(test.select_dtypes(include='object').values.flatten())))\n",
    "#le = LabelEncoder()\n",
    "#le.fit(categorical_variables_list)\n",
    "\n",
    "#background check - this method actually assigns unique value to each categorical variable in both datasets - test and train\n",
    "#this is workaround to creating one label encoder for each column, thereby preventing re-assignment of same number to different categorical variable\n"
   ]
  },
  {
   "cell_type": "code",
   "execution_count": 4,
   "id": "0c5fbc9b",
   "metadata": {},
   "outputs": [],
   "source": [
    "#encode categorical information using label encoder\n",
    "for col in train.select_dtypes(include = 'object').columns:\n",
    "    le = LabelEncoder()\n",
    "    le.fit(list(set(train[col].values).union(set(test[col].values))))\n",
    "    train[col] = le.transform(train[col])\n",
    "    test[col] = le.transform(test[col])\n",
    "    \n",
    "#this approach gives us 53 variables against 55, which means for some columns the labels are subtly different.\n",
    "#remember to try with the other approach just for fun."
   ]
  },
  {
   "cell_type": "code",
   "execution_count": null,
   "id": "e7ea2409",
   "metadata": {},
   "outputs": [],
   "source": []
  }
 ],
 "metadata": {
  "kernelspec": {
   "display_name": "Python 3 (ipykernel)",
   "language": "python",
   "name": "python3"
  },
  "language_info": {
   "codemirror_mode": {
    "name": "ipython",
    "version": 3
   },
   "file_extension": ".py",
   "mimetype": "text/x-python",
   "name": "python",
   "nbconvert_exporter": "python",
   "pygments_lexer": "ipython3",
   "version": "3.7.11"
  }
 },
 "nbformat": 4,
 "nbformat_minor": 5
}
