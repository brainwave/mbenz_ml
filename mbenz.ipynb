{
 "cells": [
  {
   "cell_type": "code",
   "execution_count": 208,
   "metadata": {},
   "outputs": [],
   "source": [
    "import pandas as pd\n",
    "import matplotlib.pyplot as plt\n",
    "import numpy as np\n",
    "import math\n",
    "from sklearn.ensemble import RandomForestRegressor\n",
    "from sklearn.metrics import mean_absolute_error\n",
    "from sklearn.model_selection import train_test_split"
   ]
  },
  {
   "cell_type": "code",
   "execution_count": 209,
   "metadata": {},
   "outputs": [],
   "source": [
    "#read test and train datasets\n",
    "mercedes_train = pd.read_csv('dataset/train.csv')\n",
    "mercedes_test = pd.read_csv('dataset/test.csv')"
   ]
  },
  {
   "cell_type": "code",
   "execution_count": 210,
   "metadata": {},
   "outputs": [
    {
     "name": "stdout",
     "output_type": "stream",
     "text": [
      "(4209, 378)\n",
      "(4209, 377)\n"
     ]
    }
   ],
   "source": [
    "print(mercedes_train.shape)\n",
    "print(mercedes_test.shape)"
   ]
  },
  {
   "cell_type": "code",
   "execution_count": 211,
   "metadata": {},
   "outputs": [
    {
     "data": {
      "text/plain": [
       "Index(['ID', 'y', 'X0', 'X1', 'X2', 'X3', 'X4', 'X5', 'X6', 'X8',\n",
       "       ...\n",
       "       'X375', 'X376', 'X377', 'X378', 'X379', 'X380', 'X382', 'X383', 'X384',\n",
       "       'X385'],\n",
       "      dtype='object', length=378)"
      ]
     },
     "execution_count": 211,
     "metadata": {},
     "output_type": "execute_result"
    }
   ],
   "source": [
    "mercedes_train.columns"
   ]
  },
  {
   "cell_type": "code",
   "execution_count": 212,
   "metadata": {},
   "outputs": [
    {
     "name": "stdout",
     "output_type": "stream",
     "text": [
      "   ID       y  X0 X1  X2 X3 X4 X5 X6 X8  ...  X375  X376  X377  X378  X379  \\\n",
      "0   0  130.81   k  v  at  a  d  u  j  o  ...     0     0     1     0     0   \n",
      "1   6   88.53   k  t  av  e  d  y  l  o  ...     1     0     0     0     0   \n",
      "2   7   76.26  az  w   n  c  d  x  j  x  ...     0     0     0     0     0   \n",
      "3   9   80.62  az  t   n  f  d  x  l  e  ...     0     0     0     0     0   \n",
      "4  13   78.02  az  v   n  f  d  h  d  n  ...     0     0     0     0     0   \n",
      "\n",
      "   X380  X382  X383  X384  X385  \n",
      "0     0     0     0     0     0  \n",
      "1     0     0     0     0     0  \n",
      "2     0     1     0     0     0  \n",
      "3     0     0     0     0     0  \n",
      "4     0     0     0     0     0  \n",
      "\n",
      "[5 rows x 378 columns]\n"
     ]
    }
   ],
   "source": [
    "print(mercedes_train.head())"
   ]
  },
  {
   "cell_type": "code",
   "execution_count": 213,
   "metadata": {},
   "outputs": [
    {
     "name": "stdout",
     "output_type": "stream",
     "text": [
      "    feature data type\n",
      "0        ID     int64\n",
      "1         y   float64\n",
      "2        X0    object\n",
      "3        X1    object\n",
      "4        X2    object\n",
      "..      ...       ...\n",
      "373    X380     int64\n",
      "374    X382     int64\n",
      "375    X383     int64\n",
      "376    X384     int64\n",
      "377    X385     int64\n",
      "\n",
      "[378 rows x 2 columns]\n"
     ]
    }
   ],
   "source": [
    "mercedes_train_dtype_info = mercedes_train.dtypes.reset_index()\n",
    "mercedes_train_dtype_info.columns = ['feature', 'data type']\n",
    "print(mercedes_train_dtype_info)"
   ]
  },
  {
   "cell_type": "code",
   "execution_count": 214,
   "metadata": {},
   "outputs": [
    {
     "data": {
      "text/html": [
       "<div>\n",
       "<style scoped>\n",
       "    .dataframe tbody tr th:only-of-type {\n",
       "        vertical-align: middle;\n",
       "    }\n",
       "\n",
       "    .dataframe tbody tr th {\n",
       "        vertical-align: top;\n",
       "    }\n",
       "\n",
       "    .dataframe thead th {\n",
       "        text-align: right;\n",
       "    }\n",
       "</style>\n",
       "<table border=\"1\" class=\"dataframe\">\n",
       "  <thead>\n",
       "    <tr style=\"text-align: right;\">\n",
       "      <th></th>\n",
       "      <th>data type</th>\n",
       "      <th>feature</th>\n",
       "    </tr>\n",
       "  </thead>\n",
       "  <tbody>\n",
       "    <tr>\n",
       "      <th>0</th>\n",
       "      <td>int64</td>\n",
       "      <td>369</td>\n",
       "    </tr>\n",
       "    <tr>\n",
       "      <th>1</th>\n",
       "      <td>float64</td>\n",
       "      <td>1</td>\n",
       "    </tr>\n",
       "    <tr>\n",
       "      <th>2</th>\n",
       "      <td>object</td>\n",
       "      <td>8</td>\n",
       "    </tr>\n",
       "  </tbody>\n",
       "</table>\n",
       "</div>"
      ],
      "text/plain": [
       "  data type  feature\n",
       "0     int64      369\n",
       "1   float64        1\n",
       "2    object        8"
      ]
     },
     "execution_count": 214,
     "metadata": {},
     "output_type": "execute_result"
    }
   ],
   "source": [
    "mercedes_train_dtype_info.groupby('data type').aggregate('count').reset_index()"
   ]
  },
  {
   "cell_type": "code",
   "execution_count": 215,
   "metadata": {},
   "outputs": [
    {
     "data": {
      "image/png": "[encoded data removed]",
      "text/plain": [
       "<Figure size 432x288 with 1 Axes>"
      ]
     },
     "metadata": {
      "needs_background": "light"
     },
     "output_type": "display_data"
    }
   ],
   "source": [
    "y = mercedes_train.y\n",
    "plt.figure()\n",
    "plt.scatter(range(mercedes_train.shape[0]), mercedes_train.y.values)\n",
    "plt.show()"
   ]
  },
  {
   "cell_type": "code",
   "execution_count": 216,
   "metadata": {},
   "outputs": [
    {
     "name": "stdout",
     "output_type": "stream",
     "text": [
      "265.32 883\n"
     ]
    }
   ],
   "source": [
    "print(mercedes_train.y.max(), mercedes_train.y.idxmax())"
   ]
  },
  {
   "cell_type": "code",
   "execution_count": 217,
   "metadata": {},
   "outputs": [],
   "source": [
    "mercedes_train.drop(index=883, inplace=True)"
   ]
  },
  {
   "cell_type": "code",
   "execution_count": 218,
   "metadata": {},
   "outputs": [
    {
     "name": "stdout",
     "output_type": "stream",
     "text": [
      "169.91 342\n"
     ]
    },
    {
     "data": {
      "image/png": "[encoded data removed]",
      "text/plain": [
       "<Figure size 432x288 with 1 Axes>"
      ]
     },
     "metadata": {
      "needs_background": "light"
     },
     "output_type": "display_data"
    }
   ],
   "source": [
    "print(mercedes_train.y.max(), mercedes_train.y.idxmax())\n",
    "plt.figure()\n",
    "plt.scatter(range(mercedes_train.shape[0]), np.sort(mercedes_train.y.values))\n",
    "plt.show()"
   ]
  },
  {
   "cell_type": "code",
   "execution_count": 219,
   "metadata": {},
   "outputs": [],
   "source": [
    "no_of_bins = int(math.sqrt(mercedes_train.shape[0]))"
   ]
  },
  {
   "cell_type": "code",
   "execution_count": 220,
   "metadata": {},
   "outputs": [
    {
     "data": {
      "image/png": "[encoded data removed]",
      "text/plain": [
       "<Figure size 432x288 with 1 Axes>"
      ]
     },
     "metadata": {
      "needs_background": "light"
     },
     "output_type": "display_data"
    }
   ],
   "source": [
    "plt.figure()\n",
    "plt.hist(mercedes_train.y.values, bins=no_of_bins)\n",
    "plt.show()"
   ]
  },
  {
   "cell_type": "markdown",
   "metadata": {},
   "source": [
    "Data Pre Processing"
   ]
  },
  {
   "cell_type": "code",
   "execution_count": 221,
   "metadata": {},
   "outputs": [
    {
     "name": "stdout",
     "output_type": "stream",
     "text": [
      "[]\n",
      "[]\n"
     ]
    }
   ],
   "source": [
    "#Check for missing values in both test and train datasets\n",
    "missing_columns_test = mercedes_test[[col for col in mercedes_test.columns if mercedes_test[col].isnull().any()==True]].isna().sum()\n",
    "print(missing_columns_test.values)\n",
    "\n",
    "missing_columns_train = mercedes_train[[col for col in mercedes_train.columns if mercedes_train[col].isnull().any()==True]].isna().sum()\n",
    "print(missing_columns_train.values)"
   ]
  },
  {
   "cell_type": "markdown",
   "metadata": {},
   "source": [
    "We find that there are no missing values in either dataset."
   ]
  },
  {
   "cell_type": "code",
   "execution_count": 222,
   "metadata": {},
   "outputs": [],
   "source": [
    "#encding the categorical variables\n",
    "from sklearn import preprocessing\n",
    "for obj in mercedes_train.select_dtypes('object'):\n",
    "    mercedes_train[obj] = preprocessing.LabelEncoder().fit_transform(mercedes_train[obj])\n",
    "    \n",
    "#repeat for test dataset\n",
    "for obj in mercedes_test.select_dtypes('object'):\n",
    "    mercedes_test[obj] = preprocessing.LabelEncoder().fit_transform(mercedes_test[obj])"
   ]
  },
  {
   "cell_type": "code",
   "execution_count": 223,
   "metadata": {},
   "outputs": [],
   "source": [
    "#remove features with zero variance as they are unlikely to influence final solution positively\n",
    "from sklearn.feature_selection import VarianceThreshold\n",
    "\n",
    "thresh = VarianceThreshold(threshold = 0.001)\n",
    "\n",
    "removed_var_train = thresh.fit_transform(mercedes_train)\n",
    "removed_var_test = thresh.fit_transform(mercedes_test)\n",
    "\n",
    "filtered_train = mercedes_train[mercedes_train.columns[thresh.get_support(indices = True)]]\n",
    "filtered_test = mercedes_test[mercedes_test.columns[thresh.get_support(indices = True)]]"
   ]
  },
  {
   "cell_type": "code",
   "execution_count": 224,
   "metadata": {},
   "outputs": [
    {
     "name": "stdout",
     "output_type": "stream",
     "text": [
      "(4208, 327)\n",
      "(4209, 327)\n"
     ]
    }
   ],
   "source": [
    "print(filtered_train.shape)\n",
    "print(filtered_test.shape)"
   ]
  },
  {
   "cell_type": "markdown",
   "metadata": {},
   "source": [
    "So from 377 and 378 columns in test and train datasets respectively, we have 327 columns each remaining. Therefore, columns with zero variances have been dropped."
   ]
  },
  {
   "cell_type": "code",
   "execution_count": 227,
   "metadata": {},
   "outputs": [],
   "source": [
    "#remove highly correlated features\n",
    "correlation_matrix_train = filtered_train.corr()\n",
    "correlation_matrix_test = filtered_test.corr()\n",
    "threshold = 0.95\n",
    "np.fill_diagonal(correlation_matrix_train.values, -2)\n",
    "np.fill_diagonal(correlation_matrix_test.values, -2)\n"
   ]
  },
  {
   "cell_type": "code",
   "execution_count": 228,
   "metadata": {},
   "outputs": [
    {
     "name": "stderr",
     "output_type": "stream",
     "text": [
      "/home/brainwave/miniconda3/envs/directml/lib/python3.7/site-packages/pandas/core/frame.py:4913: SettingWithCopyWarning: \n",
      "A value is trying to be set on a copy of a slice from a DataFrame\n",
      "\n",
      "See the caveats in the documentation: https://pandas.pydata.org/pandas-docs/stable/user_guide/indexing.html#returning-a-view-versus-a-copy\n",
      "  errors=errors,\n"
     ]
    }
   ],
   "source": [
    "filtered_train.drop(columns = correlation_matrix_train.columns[(correlation_matrix_train >= threshold).any()], inplace = True)\n",
    "filtered_test.drop(columns = correlation_matrix_test.columns[(correlation_matrix_test >= threshold).any()], inplace = True)\n",
    "#(correlation_matrix >= 0.85).any()"
   ]
  },
  {
   "cell_type": "code",
   "execution_count": 127,
   "metadata": {},
   "outputs": [
    {
     "name": "stdout",
     "output_type": "stream",
     "text": [
      "        ID  X0  X1  X2  X3  X4  X5  X6  X8  X11  ...  X359  X361  X366  X369  \\\n",
      "0        0  32  23  17   0   3  24   9  14    0  ...     0     1     0     0   \n",
      "1        6  32  21  19   4   3  28  11  14    0  ...     0     1     0     0   \n",
      "2        7  20  24  34   2   3  27   9  23    0  ...     0     1     0     0   \n",
      "3        9  20  21  34   5   3  27  11   4    0  ...     0     1     0     0   \n",
      "4       13  20  23  34   5   3  12   3  13    0  ...     0     1     0     0   \n",
      "...    ...  ..  ..  ..  ..  ..  ..  ..  ..  ...  ...   ...   ...   ...   ...   \n",
      "4204  8405   8  20  16   2   3   0   3  16    0  ...     0     1     0     0   \n",
      "4205  8406  31  16  40   3   3   0   7   7    0  ...     0     1     0     0   \n",
      "4206  8412   8  23  38   0   3   0   6   4    0  ...     0     1     0     0   \n",
      "4207  8415   9  19  25   5   3   0  11  20    0  ...     0     1     0     0   \n",
      "4208  8417  46  19   3   2   3   0   6  22    0  ...     0     1     0     0   \n",
      "\n",
      "      X372  X375  X376  X377  X380  X384  \n",
      "0        0     0     0     1     0     0  \n",
      "1        0     1     0     0     0     0  \n",
      "2        0     0     0     0     0     0  \n",
      "3        1     0     0     0     0     0  \n",
      "4        0     0     0     0     0     0  \n",
      "...    ...   ...   ...   ...   ...   ...  \n",
      "4204     0     1     0     0     0     0  \n",
      "4205     0     0     1     0     0     0  \n",
      "4206     0     0     0     1     0     0  \n",
      "4207     0     0     0     0     0     0  \n",
      "4208     0     1     0     0     0     0  \n",
      "\n",
      "[4208 rows x 199 columns]\n"
     ]
    },
    {
     "data": {
      "text/plain": [
       "(4208, 199)"
      ]
     },
     "execution_count": 127,
     "metadata": {},
     "output_type": "execute_result"
    }
   ],
   "source": [
    "print(filtered_train.head())\n",
    "filtered_train.shape\n",
    "filtered_test.shape"
   ]
  },
  {
   "cell_type": "code",
   "execution_count": null,
   "metadata": {},
   "outputs": [],
   "source": []
  }
 ],
 "metadata": {
  "kernelspec": {
   "display_name": "Python 3 (ipykernel)",
   "language": "python",
   "name": "python3"
  },
  "language_info": {
   "codemirror_mode": {
    "name": "ipython",
    "version": 3
   },
   "file_extension": ".py",
   "mimetype": "text/x-python",
   "name": "python",
   "nbconvert_exporter": "python",
   "pygments_lexer": "ipython3",
   "version": "3.7.11"
  },
  "orig_nbformat": 4
 },
 "nbformat": 4,
 "nbformat_minor": 2
}
