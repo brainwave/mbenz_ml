{
 "cells": [
  {
   "cell_type": "code",
   "execution_count": 1,
   "metadata": {
    "_cell_guid": "b1076dfc-b9ad-4769-8c92-a6c4dae69d19",
    "_uuid": "8f2839f25d086af736a60e9eeb907d3b93b6e0e5",
    "execution": {
     "iopub.execute_input": "2021-03-18T13:54:45.845808Z",
     "iopub.status.busy": "2021-03-18T13:54:45.844751Z",
     "iopub.status.idle": "2021-03-18T13:54:45.852267Z",
     "shell.execute_reply": "2021-03-18T13:54:45.851377Z"
    },
    "papermill": {
     "duration": 0.038398,
     "end_time": "2021-03-18T13:54:45.852512",
     "exception": false,
     "start_time": "2021-03-18T13:54:45.814114",
     "status": "completed"
    },
    "tags": []
   },
   "outputs": [
    {
     "name": "stdout",
     "output_type": "stream",
     "text": [
      "/kaggle/input/mercedes-benz-greener-manufacturing/train.csv.zip\n",
      "/kaggle/input/mercedes-benz-greener-manufacturing/sample_submission.csv.zip\n",
      "/kaggle/input/mercedes-benz-greener-manufacturing/test.csv.zip\n"
     ]
    }
   ],
   "source": [
    "# This Python 3 environment comes with many helpful analytics libraries installed\n",
    "# It is defined by the kaggle/python Docker image: https://github.com/kaggle/docker-python\n",
    "# For example, here's several helpful packages to load\n",
    "\n",
    "import numpy as np\n",
    "import pandas as pd "
   ]
  },
  {
   "cell_type": "code",
   "execution_count": 2,
   "metadata": {
    "execution": {
     "iopub.execute_input": "2021-03-18T13:54:45.905098Z",
     "iopub.status.busy": "2021-03-18T13:54:45.904335Z",
     "iopub.status.idle": "2021-03-18T13:54:47.443543Z",
     "shell.execute_reply": "2021-03-18T13:54:47.442799Z"
    },
    "papermill": {
     "duration": 1.568379,
     "end_time": "2021-03-18T13:54:47.443731",
     "exception": false,
     "start_time": "2021-03-18T13:54:45.875352",
     "status": "completed"
    },
    "tags": []
   },
   "outputs": [],
   "source": [
    "import scipy\n",
    "import seaborn as sns\n",
    "from matplotlib import pyplot as plt\n",
    "\n",
    "from sklearn.preprocessing import OneHotEncoder\n",
    "from sklearn.preprocessing import StandardScaler\n",
    "\n",
    "from sklearn.linear_model import LinearRegression\n",
    "from sklearn.tree import DecisionTreeRegressor\n",
    "from sklearn.neighbors import KNeighborsRegressor\n",
    "from sklearn.svm import SVR\n",
    "from sklearn.ensemble import RandomForestRegressor\n",
    "\n",
    "from sklearn.metrics import r2_score\n",
    "from sklearn.model_selection import train_test_split\n",
    "from sklearn.model_selection import GridSearchCV\n"
   ]
  },
  {
   "cell_type": "code",
   "execution_count": 3,
   "metadata": {
    "execution": {
     "iopub.execute_input": "2021-03-18T13:54:47.494339Z",
     "iopub.status.busy": "2021-03-18T13:54:47.493550Z",
     "iopub.status.idle": "2021-03-18T13:54:47.874406Z",
     "shell.execute_reply": "2021-03-18T13:54:47.873820Z"
    },
    "papermill": {
     "duration": 0.408627,
     "end_time": "2021-03-18T13:54:47.874576",
     "exception": false,
     "start_time": "2021-03-18T13:54:47.465949",
     "status": "completed"
    },
    "tags": []
   },
   "outputs": [],
   "source": [
    "train_df = pd.read_csv('datasets/train.csv.zip')\n",
    "test_df = pd.read_csv('dataset/test.csv.zip')\n"
   ]
  },
  {
   "cell_type": "code",
   "execution_count": 4,
   "metadata": {
    "execution": {
     "iopub.execute_input": "2021-03-18T13:54:47.945702Z",
     "iopub.status.busy": "2021-03-18T13:54:47.944581Z",
     "iopub.status.idle": "2021-03-18T13:54:47.973335Z",
     "shell.execute_reply": "2021-03-18T13:54:47.972669Z"
    },
    "papermill": {
     "duration": 0.076641,
     "end_time": "2021-03-18T13:54:47.973479",
     "exception": false,
     "start_time": "2021-03-18T13:54:47.896838",
     "status": "completed"
    },
    "tags": []
   },
   "outputs": [
    {
     "data": {
      "text/html": [
       "<div>\n",
       "<style scoped>\n",
       "    .dataframe tbody tr th:only-of-type {\n",
       "        vertical-align: middle;\n",
       "    }\n",
       "\n",
       "    .dataframe tbody tr th {\n",
       "        vertical-align: top;\n",
       "    }\n",
       "\n",
       "    .dataframe thead th {\n",
       "        text-align: right;\n",
       "    }\n",
       "</style>\n",
       "<table border=\"1\" class=\"dataframe\">\n",
       "  <thead>\n",
       "    <tr style=\"text-align: right;\">\n",
       "      <th></th>\n",
       "      <th>ID</th>\n",
       "      <th>y</th>\n",
       "      <th>X0</th>\n",
       "      <th>X1</th>\n",
       "      <th>X2</th>\n",
       "      <th>X3</th>\n",
       "      <th>X4</th>\n",
       "      <th>X5</th>\n",
       "      <th>X6</th>\n",
       "      <th>X8</th>\n",
       "      <th>...</th>\n",
       "      <th>X375</th>\n",
       "      <th>X376</th>\n",
       "      <th>X377</th>\n",
       "      <th>X378</th>\n",
       "      <th>X379</th>\n",
       "      <th>X380</th>\n",
       "      <th>X382</th>\n",
       "      <th>X383</th>\n",
       "      <th>X384</th>\n",
       "      <th>X385</th>\n",
       "    </tr>\n",
       "  </thead>\n",
       "  <tbody>\n",
       "    <tr>\n",
       "      <th>0</th>\n",
       "      <td>0</td>\n",
       "      <td>130.81</td>\n",
       "      <td>k</td>\n",
       "      <td>v</td>\n",
       "      <td>at</td>\n",
       "      <td>a</td>\n",
       "      <td>d</td>\n",
       "      <td>u</td>\n",
       "      <td>j</td>\n",
       "      <td>o</td>\n",
       "      <td>...</td>\n",
       "      <td>0</td>\n",
       "      <td>0</td>\n",
       "      <td>1</td>\n",
       "      <td>0</td>\n",
       "      <td>0</td>\n",
       "      <td>0</td>\n",
       "      <td>0</td>\n",
       "      <td>0</td>\n",
       "      <td>0</td>\n",
       "      <td>0</td>\n",
       "    </tr>\n",
       "    <tr>\n",
       "      <th>1</th>\n",
       "      <td>6</td>\n",
       "      <td>88.53</td>\n",
       "      <td>k</td>\n",
       "      <td>t</td>\n",
       "      <td>av</td>\n",
       "      <td>e</td>\n",
       "      <td>d</td>\n",
       "      <td>y</td>\n",
       "      <td>l</td>\n",
       "      <td>o</td>\n",
       "      <td>...</td>\n",
       "      <td>1</td>\n",
       "      <td>0</td>\n",
       "      <td>0</td>\n",
       "      <td>0</td>\n",
       "      <td>0</td>\n",
       "      <td>0</td>\n",
       "      <td>0</td>\n",
       "      <td>0</td>\n",
       "      <td>0</td>\n",
       "      <td>0</td>\n",
       "    </tr>\n",
       "    <tr>\n",
       "      <th>2</th>\n",
       "      <td>7</td>\n",
       "      <td>76.26</td>\n",
       "      <td>az</td>\n",
       "      <td>w</td>\n",
       "      <td>n</td>\n",
       "      <td>c</td>\n",
       "      <td>d</td>\n",
       "      <td>x</td>\n",
       "      <td>j</td>\n",
       "      <td>x</td>\n",
       "      <td>...</td>\n",
       "      <td>0</td>\n",
       "      <td>0</td>\n",
       "      <td>0</td>\n",
       "      <td>0</td>\n",
       "      <td>0</td>\n",
       "      <td>0</td>\n",
       "      <td>1</td>\n",
       "      <td>0</td>\n",
       "      <td>0</td>\n",
       "      <td>0</td>\n",
       "    </tr>\n",
       "    <tr>\n",
       "      <th>3</th>\n",
       "      <td>9</td>\n",
       "      <td>80.62</td>\n",
       "      <td>az</td>\n",
       "      <td>t</td>\n",
       "      <td>n</td>\n",
       "      <td>f</td>\n",
       "      <td>d</td>\n",
       "      <td>x</td>\n",
       "      <td>l</td>\n",
       "      <td>e</td>\n",
       "      <td>...</td>\n",
       "      <td>0</td>\n",
       "      <td>0</td>\n",
       "      <td>0</td>\n",
       "      <td>0</td>\n",
       "      <td>0</td>\n",
       "      <td>0</td>\n",
       "      <td>0</td>\n",
       "      <td>0</td>\n",
       "      <td>0</td>\n",
       "      <td>0</td>\n",
       "    </tr>\n",
       "    <tr>\n",
       "      <th>4</th>\n",
       "      <td>13</td>\n",
       "      <td>78.02</td>\n",
       "      <td>az</td>\n",
       "      <td>v</td>\n",
       "      <td>n</td>\n",
       "      <td>f</td>\n",
       "      <td>d</td>\n",
       "      <td>h</td>\n",
       "      <td>d</td>\n",
       "      <td>n</td>\n",
       "      <td>...</td>\n",
       "      <td>0</td>\n",
       "      <td>0</td>\n",
       "      <td>0</td>\n",
       "      <td>0</td>\n",
       "      <td>0</td>\n",
       "      <td>0</td>\n",
       "      <td>0</td>\n",
       "      <td>0</td>\n",
       "      <td>0</td>\n",
       "      <td>0</td>\n",
       "    </tr>\n",
       "  </tbody>\n",
       "</table>\n",
       "<p>5 rows × 378 columns</p>\n",
       "</div>"
      ],
      "text/plain": [
       "   ID       y  X0 X1  X2 X3 X4 X5 X6 X8  ...  X375  X376  X377  X378  X379  \\\n",
       "0   0  130.81   k  v  at  a  d  u  j  o  ...     0     0     1     0     0   \n",
       "1   6   88.53   k  t  av  e  d  y  l  o  ...     1     0     0     0     0   \n",
       "2   7   76.26  az  w   n  c  d  x  j  x  ...     0     0     0     0     0   \n",
       "3   9   80.62  az  t   n  f  d  x  l  e  ...     0     0     0     0     0   \n",
       "4  13   78.02  az  v   n  f  d  h  d  n  ...     0     0     0     0     0   \n",
       "\n",
       "   X380  X382  X383  X384  X385  \n",
       "0     0     0     0     0     0  \n",
       "1     0     0     0     0     0  \n",
       "2     0     1     0     0     0  \n",
       "3     0     0     0     0     0  \n",
       "4     0     0     0     0     0  \n",
       "\n",
       "[5 rows x 378 columns]"
      ]
     },
     "execution_count": 4,
     "metadata": {},
     "output_type": "execute_result"
    }
   ],
   "source": [
    "train_df.head(3)"
   ]
  },
  {
   "cell_type": "code",
   "execution_count": 5,
   "metadata": {
    "execution": {
     "iopub.execute_input": "2021-03-18T13:54:48.045534Z",
     "iopub.status.busy": "2021-03-18T13:54:48.044357Z",
     "iopub.status.idle": "2021-03-18T13:54:48.048973Z",
     "shell.execute_reply": "2021-03-18T13:54:48.049444Z"
    },
    "papermill": {
     "duration": 0.053468,
     "end_time": "2021-03-18T13:54:48.049641",
     "exception": false,
     "start_time": "2021-03-18T13:54:47.996173",
     "status": "completed"
    },
    "tags": []
   },
   "outputs": [
    {
     "data": {
      "text/html": [
       "<div>\n",
       "<style scoped>\n",
       "    .dataframe tbody tr th:only-of-type {\n",
       "        vertical-align: middle;\n",
       "    }\n",
       "\n",
       "    .dataframe tbody tr th {\n",
       "        vertical-align: top;\n",
       "    }\n",
       "\n",
       "    .dataframe thead th {\n",
       "        text-align: right;\n",
       "    }\n",
       "</style>\n",
       "<table border=\"1\" class=\"dataframe\">\n",
       "  <thead>\n",
       "    <tr style=\"text-align: right;\">\n",
       "      <th></th>\n",
       "      <th>ID</th>\n",
       "      <th>X0</th>\n",
       "      <th>X1</th>\n",
       "      <th>X2</th>\n",
       "      <th>X3</th>\n",
       "      <th>X4</th>\n",
       "      <th>X5</th>\n",
       "      <th>X6</th>\n",
       "      <th>X8</th>\n",
       "      <th>X10</th>\n",
       "      <th>...</th>\n",
       "      <th>X375</th>\n",
       "      <th>X376</th>\n",
       "      <th>X377</th>\n",
       "      <th>X378</th>\n",
       "      <th>X379</th>\n",
       "      <th>X380</th>\n",
       "      <th>X382</th>\n",
       "      <th>X383</th>\n",
       "      <th>X384</th>\n",
       "      <th>X385</th>\n",
       "    </tr>\n",
       "  </thead>\n",
       "  <tbody>\n",
       "    <tr>\n",
       "      <th>0</th>\n",
       "      <td>1</td>\n",
       "      <td>az</td>\n",
       "      <td>v</td>\n",
       "      <td>n</td>\n",
       "      <td>f</td>\n",
       "      <td>d</td>\n",
       "      <td>t</td>\n",
       "      <td>a</td>\n",
       "      <td>w</td>\n",
       "      <td>0</td>\n",
       "      <td>...</td>\n",
       "      <td>0</td>\n",
       "      <td>0</td>\n",
       "      <td>0</td>\n",
       "      <td>1</td>\n",
       "      <td>0</td>\n",
       "      <td>0</td>\n",
       "      <td>0</td>\n",
       "      <td>0</td>\n",
       "      <td>0</td>\n",
       "      <td>0</td>\n",
       "    </tr>\n",
       "    <tr>\n",
       "      <th>1</th>\n",
       "      <td>2</td>\n",
       "      <td>t</td>\n",
       "      <td>b</td>\n",
       "      <td>ai</td>\n",
       "      <td>a</td>\n",
       "      <td>d</td>\n",
       "      <td>b</td>\n",
       "      <td>g</td>\n",
       "      <td>y</td>\n",
       "      <td>0</td>\n",
       "      <td>...</td>\n",
       "      <td>0</td>\n",
       "      <td>0</td>\n",
       "      <td>1</td>\n",
       "      <td>0</td>\n",
       "      <td>0</td>\n",
       "      <td>0</td>\n",
       "      <td>0</td>\n",
       "      <td>0</td>\n",
       "      <td>0</td>\n",
       "      <td>0</td>\n",
       "    </tr>\n",
       "    <tr>\n",
       "      <th>2</th>\n",
       "      <td>3</td>\n",
       "      <td>az</td>\n",
       "      <td>v</td>\n",
       "      <td>as</td>\n",
       "      <td>f</td>\n",
       "      <td>d</td>\n",
       "      <td>a</td>\n",
       "      <td>j</td>\n",
       "      <td>j</td>\n",
       "      <td>0</td>\n",
       "      <td>...</td>\n",
       "      <td>0</td>\n",
       "      <td>0</td>\n",
       "      <td>0</td>\n",
       "      <td>1</td>\n",
       "      <td>0</td>\n",
       "      <td>0</td>\n",
       "      <td>0</td>\n",
       "      <td>0</td>\n",
       "      <td>0</td>\n",
       "      <td>0</td>\n",
       "    </tr>\n",
       "    <tr>\n",
       "      <th>3</th>\n",
       "      <td>4</td>\n",
       "      <td>az</td>\n",
       "      <td>l</td>\n",
       "      <td>n</td>\n",
       "      <td>f</td>\n",
       "      <td>d</td>\n",
       "      <td>z</td>\n",
       "      <td>l</td>\n",
       "      <td>n</td>\n",
       "      <td>0</td>\n",
       "      <td>...</td>\n",
       "      <td>0</td>\n",
       "      <td>0</td>\n",
       "      <td>0</td>\n",
       "      <td>1</td>\n",
       "      <td>0</td>\n",
       "      <td>0</td>\n",
       "      <td>0</td>\n",
       "      <td>0</td>\n",
       "      <td>0</td>\n",
       "      <td>0</td>\n",
       "    </tr>\n",
       "    <tr>\n",
       "      <th>4</th>\n",
       "      <td>5</td>\n",
       "      <td>w</td>\n",
       "      <td>s</td>\n",
       "      <td>as</td>\n",
       "      <td>c</td>\n",
       "      <td>d</td>\n",
       "      <td>y</td>\n",
       "      <td>i</td>\n",
       "      <td>m</td>\n",
       "      <td>0</td>\n",
       "      <td>...</td>\n",
       "      <td>1</td>\n",
       "      <td>0</td>\n",
       "      <td>0</td>\n",
       "      <td>0</td>\n",
       "      <td>0</td>\n",
       "      <td>0</td>\n",
       "      <td>0</td>\n",
       "      <td>0</td>\n",
       "      <td>0</td>\n",
       "      <td>0</td>\n",
       "    </tr>\n",
       "  </tbody>\n",
       "</table>\n",
       "<p>5 rows × 377 columns</p>\n",
       "</div>"
      ],
      "text/plain": [
       "   ID  X0 X1  X2 X3 X4 X5 X6 X8  X10  ...  X375  X376  X377  X378  X379  X380  \\\n",
       "0   1  az  v   n  f  d  t  a  w    0  ...     0     0     0     1     0     0   \n",
       "1   2   t  b  ai  a  d  b  g  y    0  ...     0     0     1     0     0     0   \n",
       "2   3  az  v  as  f  d  a  j  j    0  ...     0     0     0     1     0     0   \n",
       "3   4  az  l   n  f  d  z  l  n    0  ...     0     0     0     1     0     0   \n",
       "4   5   w  s  as  c  d  y  i  m    0  ...     1     0     0     0     0     0   \n",
       "\n",
       "   X382  X383  X384  X385  \n",
       "0     0     0     0     0  \n",
       "1     0     0     0     0  \n",
       "2     0     0     0     0  \n",
       "3     0     0     0     0  \n",
       "4     0     0     0     0  \n",
       "\n",
       "[5 rows x 377 columns]"
      ]
     },
     "execution_count": 5,
     "metadata": {},
     "output_type": "execute_result"
    }
   ],
   "source": [
    "test_df.head(3)"
   ]
  },
  {
   "cell_type": "code",
   "execution_count": 10,
   "metadata": {
    "execution": {
     "iopub.execute_input": "2021-03-18T13:54:48.703328Z",
     "iopub.status.busy": "2021-03-18T13:54:48.702300Z",
     "iopub.status.idle": "2021-03-18T13:54:48.741628Z",
     "shell.execute_reply": "2021-03-18T13:54:48.740534Z"
    },
    "papermill": {
     "duration": 0.075053,
     "end_time": "2021-03-18T13:54:48.741856",
     "exception": false,
     "start_time": "2021-03-18T13:54:48.666803",
     "status": "completed"
    },
    "tags": []
   },
   "outputs": [],
   "source": [
    "#removing of outliars \n",
    "\n",
    "\n",
    "train_df = train_df.drop(train_df[train_df['y'] > 140].index)"
   ]
  },
  {
   "cell_type": "code",
   "execution_count": 16,
   "metadata": {
    "execution": {
     "iopub.execute_input": "2021-03-18T13:54:57.878617Z",
     "iopub.status.busy": "2021-03-18T13:54:57.866346Z",
     "iopub.status.idle": "2021-03-18T13:54:57.909523Z",
     "shell.execute_reply": "2021-03-18T13:54:57.908842Z"
    },
    "papermill": {
     "duration": 0.084148,
     "end_time": "2021-03-18T13:54:57.909712",
     "exception": false,
     "start_time": "2021-03-18T13:54:57.825564",
     "status": "completed"
    },
    "tags": []
   },
   "outputs": [],
   "source": [
    "data = pd.concat([train_df, test_df])\n"
   ]
  },
  {
   "cell_type": "code",
   "execution_count": 17,
   "metadata": {
    "execution": {
     "iopub.execute_input": "2021-03-18T13:54:57.989978Z",
     "iopub.status.busy": "2021-03-18T13:54:57.987378Z",
     "iopub.status.idle": "2021-03-18T13:54:58.030639Z",
     "shell.execute_reply": "2021-03-18T13:54:58.029723Z"
    },
    "papermill": {
     "duration": 0.086538,
     "end_time": "2021-03-18T13:54:58.030882",
     "exception": false,
     "start_time": "2021-03-18T13:54:57.944344",
     "status": "completed"
    },
    "tags": []
   },
   "outputs": [
    {
     "data": {
      "text/html": [
       "<div>\n",
       "<style scoped>\n",
       "    .dataframe tbody tr th:only-of-type {\n",
       "        vertical-align: middle;\n",
       "    }\n",
       "\n",
       "    .dataframe tbody tr th {\n",
       "        vertical-align: top;\n",
       "    }\n",
       "\n",
       "    .dataframe thead th {\n",
       "        text-align: right;\n",
       "    }\n",
       "</style>\n",
       "<table border=\"1\" class=\"dataframe\">\n",
       "  <thead>\n",
       "    <tr style=\"text-align: right;\">\n",
       "      <th></th>\n",
       "      <th>X0</th>\n",
       "      <th>X1</th>\n",
       "      <th>X2</th>\n",
       "    </tr>\n",
       "  </thead>\n",
       "  <tbody>\n",
       "    <tr>\n",
       "      <th>0</th>\n",
       "      <td>k</td>\n",
       "      <td>v</td>\n",
       "      <td>at</td>\n",
       "    </tr>\n",
       "    <tr>\n",
       "      <th>1</th>\n",
       "      <td>k</td>\n",
       "      <td>t</td>\n",
       "      <td>av</td>\n",
       "    </tr>\n",
       "    <tr>\n",
       "      <th>2</th>\n",
       "      <td>az</td>\n",
       "      <td>w</td>\n",
       "      <td>n</td>\n",
       "    </tr>\n",
       "    <tr>\n",
       "      <th>3</th>\n",
       "      <td>az</td>\n",
       "      <td>t</td>\n",
       "      <td>n</td>\n",
       "    </tr>\n",
       "    <tr>\n",
       "      <th>4</th>\n",
       "      <td>az</td>\n",
       "      <td>v</td>\n",
       "      <td>n</td>\n",
       "    </tr>\n",
       "    <tr>\n",
       "      <th>...</th>\n",
       "      <td>...</td>\n",
       "      <td>...</td>\n",
       "      <td>...</td>\n",
       "    </tr>\n",
       "    <tr>\n",
       "      <th>4204</th>\n",
       "      <td>aj</td>\n",
       "      <td>h</td>\n",
       "      <td>as</td>\n",
       "    </tr>\n",
       "    <tr>\n",
       "      <th>4205</th>\n",
       "      <td>t</td>\n",
       "      <td>aa</td>\n",
       "      <td>ai</td>\n",
       "    </tr>\n",
       "    <tr>\n",
       "      <th>4206</th>\n",
       "      <td>y</td>\n",
       "      <td>v</td>\n",
       "      <td>as</td>\n",
       "    </tr>\n",
       "    <tr>\n",
       "      <th>4207</th>\n",
       "      <td>ak</td>\n",
       "      <td>v</td>\n",
       "      <td>as</td>\n",
       "    </tr>\n",
       "    <tr>\n",
       "      <th>4208</th>\n",
       "      <td>t</td>\n",
       "      <td>aa</td>\n",
       "      <td>ai</td>\n",
       "    </tr>\n",
       "  </tbody>\n",
       "</table>\n",
       "<p>8383 rows × 3 columns</p>\n",
       "</div>"
      ],
      "text/plain": [
       "      X0  X1  X2\n",
       "0      k   v  at\n",
       "1      k   t  av\n",
       "2     az   w   n\n",
       "3     az   t   n\n",
       "4     az   v   n\n",
       "...   ..  ..  ..\n",
       "4204  aj   h  as\n",
       "4205   t  aa  ai\n",
       "4206   y   v  as\n",
       "4207  ak   v  as\n",
       "4208   t  aa  ai\n",
       "\n",
       "[8383 rows x 3 columns]"
      ]
     },
     "execution_count": 17,
     "metadata": {},
     "output_type": "execute_result"
    }
   ],
   "source": [
    "data[['X0', 'X1', 'X2']]"
   ]
  },
  {
   "cell_type": "code",
   "execution_count": 18,
   "metadata": {
    "execution": {
     "iopub.execute_input": "2021-03-18T13:54:58.111086Z",
     "iopub.status.busy": "2021-03-18T13:54:58.110287Z",
     "iopub.status.idle": "2021-03-18T13:54:58.114302Z",
     "shell.execute_reply": "2021-03-18T13:54:58.113631Z"
    },
    "papermill": {
     "duration": 0.047851,
     "end_time": "2021-03-18T13:54:58.114479",
     "exception": false,
     "start_time": "2021-03-18T13:54:58.066628",
     "status": "completed"
    },
    "tags": []
   },
   "outputs": [],
   "source": [
    "def code_сount(dataset, feature):\n",
    "    dict = dataset[feature].value_counts().to_dict()\n",
    "    dataset[feature] = dataset[feature].map(dict)\n",
    "    \n",
    "    return dataset[feature] \n",
    "        "
   ]
  },
  {
   "cell_type": "code",
   "execution_count": 19,
   "metadata": {
    "execution": {
     "iopub.execute_input": "2021-03-18T13:54:58.204264Z",
     "iopub.status.busy": "2021-03-18T13:54:58.196188Z",
     "iopub.status.idle": "2021-03-18T13:54:58.214419Z",
     "shell.execute_reply": "2021-03-18T13:54:58.213791Z"
    },
    "papermill": {
     "duration": 0.064556,
     "end_time": "2021-03-18T13:54:58.214617",
     "exception": false,
     "start_time": "2021-03-18T13:54:58.150061",
     "status": "completed"
    },
    "tags": []
   },
   "outputs": [],
   "source": [
    "for feature in data[['X0', 'X1', 'X2']]:\n",
    "    code_сount(data, feature)"
   ]
  },
  {
   "cell_type": "code",
   "execution_count": 1,
   "metadata": {
    "execution": {
     "iopub.execute_input": "2021-03-18T13:54:58.292263Z",
     "iopub.status.busy": "2021-03-18T13:54:58.291491Z",
     "iopub.status.idle": "2021-03-18T13:54:58.295734Z",
     "shell.execute_reply": "2021-03-18T13:54:58.294975Z"
    },
    "papermill": {
     "duration": 0.04574,
     "end_time": "2021-03-18T13:54:58.295920",
     "exception": false,
     "start_time": "2021-03-18T13:54:58.250180",
     "status": "completed"
    },
    "tags": []
   },
   "outputs": [
    {
     "data": {
      "text/plain": [
       "\"data = pd.concat([data, pd.get_dummies(data[['X0', 'X1', 'X2']])], axis=1)\""
      ]
     },
     "execution_count": 1,
     "metadata": {},
     "output_type": "execute_result"
    }
   ],
   "source": [
    "'''data = pd.concat([data, pd.get_dummies(data[['X0', 'X1', 'X2']])], axis=1)'''"
   ]
  },
  {
   "cell_type": "code",
   "execution_count": 2,
   "metadata": {
    "execution": {
     "iopub.execute_input": "2021-03-18T13:54:58.375237Z",
     "iopub.status.busy": "2021-03-18T13:54:58.374380Z",
     "iopub.status.idle": "2021-03-18T13:54:58.404786Z",
     "shell.execute_reply": "2021-03-18T13:54:58.405311Z"
    },
    "papermill": {
     "duration": 0.072957,
     "end_time": "2021-03-18T13:54:58.405545",
     "exception": false,
     "start_time": "2021-03-18T13:54:58.332588",
     "status": "completed"
    },
    "tags": []
   },
   "outputs": [
    {
     "ename": "NameError",
     "evalue": "name 'data' is not defined",
     "output_type": "error",
     "traceback": [
      "\u001b[0;31m---------------------------------------------------------------------------\u001b[0m",
      "\u001b[0;31mNameError\u001b[0m                                 Traceback (most recent call last)",
      "\u001b[0;32m/tmp/ipykernel_8246/2369108846.py\u001b[0m in \u001b[0;36m<module>\u001b[0;34m\u001b[0m\n\u001b[0;32m----> 1\u001b[0;31m \u001b[0mdata\u001b[0m \u001b[0;34m=\u001b[0m \u001b[0mdata\u001b[0m\u001b[0;34m.\u001b[0m\u001b[0mdrop\u001b[0m\u001b[0;34m(\u001b[0m\u001b[0mcolumns\u001b[0m\u001b[0;34m=\u001b[0m\u001b[0;34m[\u001b[0m\u001b[0;34m'X3'\u001b[0m\u001b[0;34m,\u001b[0m \u001b[0;34m'X4'\u001b[0m\u001b[0;34m,\u001b[0m \u001b[0;34m'X5'\u001b[0m\u001b[0;34m,\u001b[0m \u001b[0;34m'X6'\u001b[0m\u001b[0;34m,\u001b[0m \u001b[0;34m'X8'\u001b[0m\u001b[0;34m]\u001b[0m\u001b[0;34m)\u001b[0m\u001b[0;34m\u001b[0m\u001b[0;34m\u001b[0m\u001b[0m\n\u001b[0m",
      "\u001b[0;31mNameError\u001b[0m: name 'data' is not defined"
     ]
    }
   ],
   "source": [
    "data = data.drop(columns=['X3', 'X4', 'X5', 'X6', 'X8'])"
   ]
  },
  {
   "cell_type": "code",
   "execution_count": 22,
   "metadata": {
    "execution": {
     "iopub.execute_input": "2021-03-18T13:54:58.481674Z",
     "iopub.status.busy": "2021-03-18T13:54:58.480945Z",
     "iopub.status.idle": "2021-03-18T13:54:58.485628Z",
     "shell.execute_reply": "2021-03-18T13:54:58.486176Z"
    },
    "papermill": {
     "duration": 0.044789,
     "end_time": "2021-03-18T13:54:58.486404",
     "exception": false,
     "start_time": "2021-03-18T13:54:58.441615",
     "status": "completed"
    },
    "tags": []
   },
   "outputs": [
    {
     "data": {
      "text/plain": [
       "\"data.drop(columns=['X0', 'X1', 'X2'], inplace=True)\""
      ]
     },
     "execution_count": 22,
     "metadata": {},
     "output_type": "execute_result"
    }
   ],
   "source": [
    "'''data.drop(columns=['X0', 'X1', 'X2'], inplace=True)'''"
   ]
  },
  {
   "cell_type": "code",
   "execution_count": 24,
   "metadata": {
    "execution": {
     "iopub.execute_input": "2021-03-18T13:54:58.704651Z",
     "iopub.status.busy": "2021-03-18T13:54:58.699179Z",
     "iopub.status.idle": "2021-03-18T13:54:58.710022Z",
     "shell.execute_reply": "2021-03-18T13:54:58.710581Z"
    },
    "papermill": {
     "duration": 0.075373,
     "end_time": "2021-03-18T13:54:58.710809",
     "exception": false,
     "start_time": "2021-03-18T13:54:58.635436",
     "status": "completed"
    },
    "tags": []
   },
   "outputs": [
    {
     "data": {
      "text/html": [
       "<div>\n",
       "<style scoped>\n",
       "    .dataframe tbody tr th:only-of-type {\n",
       "        vertical-align: middle;\n",
       "    }\n",
       "\n",
       "    .dataframe tbody tr th {\n",
       "        vertical-align: top;\n",
       "    }\n",
       "\n",
       "    .dataframe thead th {\n",
       "        text-align: right;\n",
       "    }\n",
       "</style>\n",
       "<table border=\"1\" class=\"dataframe\">\n",
       "  <thead>\n",
       "    <tr style=\"text-align: right;\">\n",
       "      <th></th>\n",
       "      <th>ID</th>\n",
       "      <th>y</th>\n",
       "      <th>X10</th>\n",
       "      <th>X11</th>\n",
       "      <th>X12</th>\n",
       "      <th>X13</th>\n",
       "      <th>X14</th>\n",
       "      <th>X15</th>\n",
       "      <th>X16</th>\n",
       "      <th>X17</th>\n",
       "      <th>...</th>\n",
       "      <th>X375</th>\n",
       "      <th>X376</th>\n",
       "      <th>X377</th>\n",
       "      <th>X378</th>\n",
       "      <th>X379</th>\n",
       "      <th>X380</th>\n",
       "      <th>X382</th>\n",
       "      <th>X383</th>\n",
       "      <th>X384</th>\n",
       "      <th>X385</th>\n",
       "    </tr>\n",
       "  </thead>\n",
       "  <tbody>\n",
       "    <tr>\n",
       "      <th>0</th>\n",
       "      <td>0</td>\n",
       "      <td>130.81</td>\n",
       "      <td>0</td>\n",
       "      <td>0</td>\n",
       "      <td>0</td>\n",
       "      <td>1</td>\n",
       "      <td>0</td>\n",
       "      <td>0</td>\n",
       "      <td>0</td>\n",
       "      <td>0</td>\n",
       "      <td>...</td>\n",
       "      <td>0</td>\n",
       "      <td>0</td>\n",
       "      <td>1</td>\n",
       "      <td>0</td>\n",
       "      <td>0</td>\n",
       "      <td>0</td>\n",
       "      <td>0</td>\n",
       "      <td>0</td>\n",
       "      <td>0</td>\n",
       "      <td>0</td>\n",
       "    </tr>\n",
       "    <tr>\n",
       "      <th>1</th>\n",
       "      <td>6</td>\n",
       "      <td>88.53</td>\n",
       "      <td>0</td>\n",
       "      <td>0</td>\n",
       "      <td>0</td>\n",
       "      <td>0</td>\n",
       "      <td>0</td>\n",
       "      <td>0</td>\n",
       "      <td>0</td>\n",
       "      <td>0</td>\n",
       "      <td>...</td>\n",
       "      <td>1</td>\n",
       "      <td>0</td>\n",
       "      <td>0</td>\n",
       "      <td>0</td>\n",
       "      <td>0</td>\n",
       "      <td>0</td>\n",
       "      <td>0</td>\n",
       "      <td>0</td>\n",
       "      <td>0</td>\n",
       "      <td>0</td>\n",
       "    </tr>\n",
       "    <tr>\n",
       "      <th>2</th>\n",
       "      <td>7</td>\n",
       "      <td>76.26</td>\n",
       "      <td>0</td>\n",
       "      <td>0</td>\n",
       "      <td>0</td>\n",
       "      <td>0</td>\n",
       "      <td>0</td>\n",
       "      <td>0</td>\n",
       "      <td>0</td>\n",
       "      <td>1</td>\n",
       "      <td>...</td>\n",
       "      <td>0</td>\n",
       "      <td>0</td>\n",
       "      <td>0</td>\n",
       "      <td>0</td>\n",
       "      <td>0</td>\n",
       "      <td>0</td>\n",
       "      <td>1</td>\n",
       "      <td>0</td>\n",
       "      <td>0</td>\n",
       "      <td>0</td>\n",
       "    </tr>\n",
       "    <tr>\n",
       "      <th>3</th>\n",
       "      <td>9</td>\n",
       "      <td>80.62</td>\n",
       "      <td>0</td>\n",
       "      <td>0</td>\n",
       "      <td>0</td>\n",
       "      <td>0</td>\n",
       "      <td>0</td>\n",
       "      <td>0</td>\n",
       "      <td>0</td>\n",
       "      <td>0</td>\n",
       "      <td>...</td>\n",
       "      <td>0</td>\n",
       "      <td>0</td>\n",
       "      <td>0</td>\n",
       "      <td>0</td>\n",
       "      <td>0</td>\n",
       "      <td>0</td>\n",
       "      <td>0</td>\n",
       "      <td>0</td>\n",
       "      <td>0</td>\n",
       "      <td>0</td>\n",
       "    </tr>\n",
       "    <tr>\n",
       "      <th>4</th>\n",
       "      <td>13</td>\n",
       "      <td>78.02</td>\n",
       "      <td>0</td>\n",
       "      <td>0</td>\n",
       "      <td>0</td>\n",
       "      <td>0</td>\n",
       "      <td>0</td>\n",
       "      <td>0</td>\n",
       "      <td>0</td>\n",
       "      <td>0</td>\n",
       "      <td>...</td>\n",
       "      <td>0</td>\n",
       "      <td>0</td>\n",
       "      <td>0</td>\n",
       "      <td>0</td>\n",
       "      <td>0</td>\n",
       "      <td>0</td>\n",
       "      <td>0</td>\n",
       "      <td>0</td>\n",
       "      <td>0</td>\n",
       "      <td>0</td>\n",
       "    </tr>\n",
       "  </tbody>\n",
       "</table>\n",
       "<p>5 rows × 370 columns</p>\n",
       "</div>"
      ],
      "text/plain": [
       "   ID       y  X10  X11  X12  X13  X14  X15  X16  X17  ...  X375  X376  X377  \\\n",
       "0   0  130.81    0    0    0    1    0    0    0    0  ...     0     0     1   \n",
       "1   6   88.53    0    0    0    0    0    0    0    0  ...     1     0     0   \n",
       "2   7   76.26    0    0    0    0    0    0    0    1  ...     0     0     0   \n",
       "3   9   80.62    0    0    0    0    0    0    0    0  ...     0     0     0   \n",
       "4  13   78.02    0    0    0    0    0    0    0    0  ...     0     0     0   \n",
       "\n",
       "   X378  X379  X380  X382  X383  X384  X385  \n",
       "0     0     0     0     0     0     0     0  \n",
       "1     0     0     0     0     0     0     0  \n",
       "2     0     0     0     1     0     0     0  \n",
       "3     0     0     0     0     0     0     0  \n",
       "4     0     0     0     0     0     0     0  \n",
       "\n",
       "[5 rows x 370 columns]"
      ]
     },
     "execution_count": 24,
     "metadata": {},
     "output_type": "execute_result"
    }
   ],
   "source": [
    "num_features = train_df.select_dtypes(exclude='object').head()\n",
    "num_features.head()"
   ]
  },
  {
   "cell_type": "code",
   "execution_count": 25,
   "metadata": {
    "execution": {
     "iopub.execute_input": "2021-03-18T13:54:58.791628Z",
     "iopub.status.busy": "2021-03-18T13:54:58.790617Z",
     "iopub.status.idle": "2021-03-18T13:54:58.798914Z",
     "shell.execute_reply": "2021-03-18T13:54:58.798076Z"
    },
    "papermill": {
     "duration": 0.04851,
     "end_time": "2021-03-18T13:54:58.799122",
     "exception": false,
     "start_time": "2021-03-18T13:54:58.750612",
     "status": "completed"
    },
    "tags": []
   },
   "outputs": [
    {
     "data": {
      "text/plain": [
       "'num_features.describe()'"
      ]
     },
     "execution_count": 25,
     "metadata": {},
     "output_type": "execute_result"
    }
   ],
   "source": [
    "'''num_features.describe()'''"
   ]
  },
  {
   "cell_type": "code",
   "execution_count": 26,
   "metadata": {
    "execution": {
     "iopub.execute_input": "2021-03-18T13:54:58.879011Z",
     "iopub.status.busy": "2021-03-18T13:54:58.878286Z",
     "iopub.status.idle": "2021-03-18T13:54:58.884188Z",
     "shell.execute_reply": "2021-03-18T13:54:58.883523Z"
    },
    "papermill": {
     "duration": 0.047004,
     "end_time": "2021-03-18T13:54:58.884351",
     "exception": false,
     "start_time": "2021-03-18T13:54:58.837347",
     "status": "completed"
    },
    "tags": []
   },
   "outputs": [
    {
     "data": {
      "text/plain": [
       "'num_nul_var = []\\nfor col in num_features:\\n    if train_df[col].var() == 0:\\n        num_nul_var.append(col)\\n        print(col, train_df[col].var())'"
      ]
     },
     "execution_count": 26,
     "metadata": {},
     "output_type": "execute_result"
    }
   ],
   "source": [
    "'''num_nul_var = []\n",
    "for col in num_features:\n",
    "    if train_df[col].var() == 0:\n",
    "        num_nul_var.append(col)\n",
    "        print(col, train_df[col].var())'''"
   ]
  },
  {
   "cell_type": "code",
   "execution_count": 27,
   "metadata": {
    "execution": {
     "iopub.execute_input": "2021-03-18T13:54:58.964860Z",
     "iopub.status.busy": "2021-03-18T13:54:58.964139Z",
     "iopub.status.idle": "2021-03-18T13:54:58.970629Z",
     "shell.execute_reply": "2021-03-18T13:54:58.970072Z"
    },
    "papermill": {
     "duration": 0.047786,
     "end_time": "2021-03-18T13:54:58.970789",
     "exception": false,
     "start_time": "2021-03-18T13:54:58.923003",
     "status": "completed"
    },
    "tags": []
   },
   "outputs": [
    {
     "data": {
      "text/plain": [
       "'data.drop(columns=num_nul_var, inplace=True)'"
      ]
     },
     "execution_count": 27,
     "metadata": {},
     "output_type": "execute_result"
    }
   ],
   "source": [
    "'''data.drop(columns=num_nul_var, inplace=True)'''"
   ]
  },
  {
   "cell_type": "code",
   "execution_count": 28,
   "metadata": {
    "execution": {
     "iopub.execute_input": "2021-03-18T13:54:59.055176Z",
     "iopub.status.busy": "2021-03-18T13:54:59.054505Z",
     "iopub.status.idle": "2021-03-18T13:54:59.057695Z",
     "shell.execute_reply": "2021-03-18T13:54:59.058295Z"
    },
    "papermill": {
     "duration": 0.048951,
     "end_time": "2021-03-18T13:54:59.058468",
     "exception": false,
     "start_time": "2021-03-18T13:54:59.009517",
     "status": "completed"
    },
    "tags": []
   },
   "outputs": [],
   "source": [
    "train_df = data[:train_df.shape[0]]"
   ]
  },
  {
   "cell_type": "code",
   "execution_count": 29,
   "metadata": {
    "execution": {
     "iopub.execute_input": "2021-03-18T13:54:59.141417Z",
     "iopub.status.busy": "2021-03-18T13:54:59.140723Z",
     "iopub.status.idle": "2021-03-18T13:54:59.144863Z",
     "shell.execute_reply": "2021-03-18T13:54:59.144181Z"
    },
    "papermill": {
     "duration": 0.048377,
     "end_time": "2021-03-18T13:54:59.145031",
     "exception": false,
     "start_time": "2021-03-18T13:54:59.096654",
     "status": "completed"
    },
    "tags": []
   },
   "outputs": [],
   "source": [
    "test_df =  data[train_df.shape[0]:]\n"
   ]
  },
  {
   "cell_type": "code",
   "execution_count": 30,
   "metadata": {
    "execution": {
     "iopub.execute_input": "2021-03-18T13:54:59.227943Z",
     "iopub.status.busy": "2021-03-18T13:54:59.227204Z",
     "iopub.status.idle": "2021-03-18T13:54:59.244359Z",
     "shell.execute_reply": "2021-03-18T13:54:59.244879Z"
    },
    "papermill": {
     "duration": 0.06063,
     "end_time": "2021-03-18T13:54:59.245106",
     "exception": false,
     "start_time": "2021-03-18T13:54:59.184476",
     "status": "completed"
    },
    "tags": []
   },
   "outputs": [],
   "source": [
    "X = train_df.drop(columns=['ID', 'y'])\n",
    "y = train_df['y']\n",
    "X_test = test_df.drop(columns=['ID', 'y'])\n"
   ]
  },
  {
   "cell_type": "code",
   "execution_count": 31,
   "metadata": {
    "execution": {
     "iopub.execute_input": "2021-03-18T13:54:59.328207Z",
     "iopub.status.busy": "2021-03-18T13:54:59.327500Z",
     "iopub.status.idle": "2021-03-18T13:54:59.342400Z",
     "shell.execute_reply": "2021-03-18T13:54:59.342962Z"
    },
    "papermill": {
     "duration": 0.058669,
     "end_time": "2021-03-18T13:54:59.343204",
     "exception": false,
     "start_time": "2021-03-18T13:54:59.284535",
     "status": "completed"
    },
    "tags": []
   },
   "outputs": [],
   "source": [
    "X_train, X_val, y_train, y_val = train_test_split(X, y, random_state=42)"
   ]
  },
  {
   "cell_type": "code",
   "execution_count": 32,
   "metadata": {
    "execution": {
     "iopub.execute_input": "2021-03-18T13:54:59.434014Z",
     "iopub.status.busy": "2021-03-18T13:54:59.433292Z",
     "iopub.status.idle": "2021-03-18T13:55:00.833490Z",
     "shell.execute_reply": "2021-03-18T13:55:00.832795Z"
    },
    "papermill": {
     "duration": 1.450867,
     "end_time": "2021-03-18T13:55:00.833688",
     "exception": false,
     "start_time": "2021-03-18T13:54:59.382821",
     "status": "completed"
    },
    "tags": []
   },
   "outputs": [
    {
     "data": {
      "text/plain": [
       "0.6126267480366778"
      ]
     },
     "execution_count": 32,
     "metadata": {},
     "output_type": "execute_result"
    }
   ],
   "source": [
    "rf = RandomForestRegressor(max_depth=5, min_samples_leaf=3, n_estimators=145,\n",
    "                      n_jobs=-1, random_state=1)\n",
    "rf.fit(X_train, y_train)\n",
    "y_pred = rf.predict(X_val)\n",
    "\n",
    "r2_score(y_val, y_pred)"
   ]
  },
  {
   "cell_type": "code",
   "execution_count": 33,
   "metadata": {
    "execution": {
     "iopub.execute_input": "2021-03-18T13:55:00.920782Z",
     "iopub.status.busy": "2021-03-18T13:55:00.920086Z",
     "iopub.status.idle": "2021-03-18T13:55:00.923625Z",
     "shell.execute_reply": "2021-03-18T13:55:00.924116Z"
    },
    "papermill": {
     "duration": 0.050072,
     "end_time": "2021-03-18T13:55:00.924346",
     "exception": false,
     "start_time": "2021-03-18T13:55:00.874274",
     "status": "completed"
    },
    "tags": []
   },
   "outputs": [
    {
     "data": {
      "text/plain": [
       "\"params= {'max_depth': list(range(5,21, 1)), \\n              'min_samples_leaf': list(range(1,6, 1)),\\n              'n_estimators': [145], 'n_jobs': [-1], 'random_state': [1]}\\n\\n\\ncv_rf = GridSearchCV(RandomForestRegressor(), params)\\n\\ncv_rf.fit(X_train, y_train)\\ny_pred = cv_rf.predict(X_val)\\n\\nr2_score(y_val, y_pred), cv_rf.best_estimator_\""
      ]
     },
     "execution_count": 33,
     "metadata": {},
     "output_type": "execute_result"
    }
   ],
   "source": [
    "'''params= {'max_depth': list(range(5,21, 1)), \n",
    "              'min_samples_leaf': list(range(1,6, 1)),\n",
    "              'n_estimators': [145], 'n_jobs': [-1], 'random_state': [1]}\n",
    "\n",
    "\n",
    "cv_rf = GridSearchCV(RandomForestRegressor(), params)\n",
    "\n",
    "cv_rf.fit(X_train, y_train)\n",
    "y_pred = cv_rf.predict(X_val)\n",
    "\n",
    "r2_score(y_val, y_pred), cv_rf.best_estimator_'''"
   ]
  },
  {
   "cell_type": "code",
   "execution_count": 34,
   "metadata": {
    "execution": {
     "iopub.execute_input": "2021-03-18T13:55:01.010831Z",
     "iopub.status.busy": "2021-03-18T13:55:01.010144Z",
     "iopub.status.idle": "2021-03-18T13:55:02.613018Z",
     "shell.execute_reply": "2021-03-18T13:55:02.612259Z"
    },
    "papermill": {
     "duration": 1.647227,
     "end_time": "2021-03-18T13:55:02.613181",
     "exception": false,
     "start_time": "2021-03-18T13:55:00.965954",
     "status": "completed"
    },
    "tags": []
   },
   "outputs": [],
   "source": [
    "model = RandomForestRegressor(max_depth=5, min_samples_leaf=3, n_estimators=145,\n",
    "                      n_jobs=-1, random_state=1)\n",
    "\n",
    "model.fit(X, y)\n",
    "predict = model.predict(X_test)"
   ]
  },
  {
   "cell_type": "code",
   "execution_count": 35,
   "metadata": {
    "execution": {
     "iopub.execute_input": "2021-03-18T13:55:02.702143Z",
     "iopub.status.busy": "2021-03-18T13:55:02.701355Z",
     "iopub.status.idle": "2021-03-18T13:55:02.725734Z",
     "shell.execute_reply": "2021-03-18T13:55:02.725089Z"
    },
    "papermill": {
     "duration": 0.072595,
     "end_time": "2021-03-18T13:55:02.725894",
     "exception": false,
     "start_time": "2021-03-18T13:55:02.653299",
     "status": "completed"
    },
    "tags": []
   },
   "outputs": [],
   "source": [
    "output = pd.DataFrame({'ID': test_df.ID, 'y': predict})\n",
    "output.to_csv('mercedes_benz_baseline.csv', index=False)"
   ]
  },
  {
   "cell_type": "code",
   "execution_count": null,
   "metadata": {
    "papermill": {
     "duration": 0.03976,
     "end_time": "2021-03-18T13:55:02.806635",
     "exception": false,
     "start_time": "2021-03-18T13:55:02.766875",
     "status": "completed"
    },
    "tags": []
   },
   "outputs": [],
   "source": []
  }
 ],
 "metadata": {
  "kernelspec": {
   "display_name": "Python 3 (ipykernel)",
   "language": "python",
   "name": "python3"
  },
  "language_info": {
   "codemirror_mode": {
    "name": "ipython",
    "version": 3
   },
   "file_extension": ".py",
   "mimetype": "text/x-python",
   "name": "python",
   "nbconvert_exporter": "python",
   "pygments_lexer": "ipython3",
   "version": "3.7.11"
  },
  "papermill": {
   "default_parameters": {},
   "duration": 24.177328,
   "end_time": "2021-03-18T13:55:03.860468",
   "environment_variables": {},
   "exception": null,
   "input_path": "__notebook__.ipynb",
   "output_path": "__notebook__.ipynb",
   "parameters": {},
   "start_time": "2021-03-18T13:54:39.683140",
   "version": "2.2.2"
  }
 },
 "nbformat": 4,
 "nbformat_minor": 4
}
