{
 "cells": [
  {
   "cell_type": "code",
   "execution_count": null,
   "metadata": {
    "_cell_guid": "b1076dfc-b9ad-4769-8c92-a6c4dae69d19",
    "_uuid": "8f2839f25d086af736a60e9eeb907d3b93b6e0e5",
    "execution": {
     "iopub.execute_input": "2020-12-10T14:23:09.020531Z",
     "iopub.status.busy": "2020-12-10T14:23:09.019716Z",
     "iopub.status.idle": "2020-12-10T14:23:09.024722Z",
     "shell.execute_reply": "2020-12-10T14:23:09.023975Z"
    },
    "papermill": {
     "duration": 0.037678,
     "end_time": "2020-12-10T14:23:09.024870",
     "exception": false,
     "start_time": "2020-12-10T14:23:08.987192",
     "status": "completed"
    },
    "tags": []
   },
   "outputs": [],
   "source": [
    "# This Python 3 environment comes with many helpful analytics libraries installed\n",
    "# It is defined by the kaggle/python Docker image: https://github.com/kaggle/docker-python\n",
    "# For example, here's several helpful packages to load\n",
    "\n",
    "import numpy as np # linear algebra\n",
    "import pandas as pd # data processing, CSV file I/O (e.g. pd.read_csv)\n",
    "\n",
    "# Input data files are available in the read-only \"../input/\" directory\n",
    "# For example, running this (by clicking run or pressing Shift+Enter) will list all files under the input directory\n",
    "\n",
    "import os\n",
    "for dirname, _, filenames in os.walk('dataset/'):\n",
    "    for filename in filenames:\n",
    "        print(os.path.join(dirname, filename))\n",
    "\n",
    "# You can write up to 5GB to the current directory (/kaggle/working/) that gets preserved as output when you create a version using \"Save & Run All\" \n",
    "# You can also write temporary files to /kaggle/temp/, but they won't be saved outside of the current session"
   ]
  },
  {
   "cell_type": "code",
   "execution_count": null,
   "metadata": {
    "_kg_hide-input": true,
    "execution": {
     "iopub.execute_input": "2020-12-10T14:23:09.095697Z",
     "iopub.status.busy": "2020-12-10T14:23:09.094923Z",
     "iopub.status.idle": "2020-12-10T14:23:12.046260Z",
     "shell.execute_reply": "2020-12-10T14:23:12.045407Z"
    },
    "papermill": {
     "duration": 2.995033,
     "end_time": "2020-12-10T14:23:12.046405",
     "exception": false,
     "start_time": "2020-12-10T14:23:09.051372",
     "status": "completed"
    },
    "tags": []
   },
   "outputs": [],
   "source": [
    "#importing libraries\n",
    "from sklearn.model_selection import train_test_split\n",
    "import warnings\n",
    "warnings.filterwarnings(\"ignore\")\n",
    "import matplotlib  \n",
    "import statsmodels.formula.api as smf    \n",
    "import statsmodels.api as sm  \n",
    "from sklearn.preprocessing import robust_scale\n",
    "from sklearn import model_selection, preprocessing, feature_selection, ensemble, linear_model, metrics, decomposition\n",
    "## for explainer    \n",
    "from lime import lime_tabular\n",
    "from mlxtend.preprocessing import minmax_scaling\n",
    "from scipy import stats\n",
    "from sklearn.preprocessing import MinMaxScaler\n",
    "from sklearn.preprocessing import minmax_scale\n",
    "from sklearn.preprocessing import MaxAbsScaler\n",
    "from sklearn.preprocessing import StandardScaler\n",
    "from sklearn.preprocessing import RobustScaler\n",
    "from sklearn.preprocessing import Normalizer\n",
    "from sklearn.preprocessing._data import QuantileTransformer\n",
    "from sklearn.preprocessing._data import PowerTransformer\n",
    "from sklearn.linear_model import LogisticRegression\n",
    "from scipy.stats import skew\n",
    "from sklearn.tree import DecisionTreeRegressor\n",
    "pd.set_option('display.max_rows', 1000)\n",
    "## for data\n",
    "import pandas as pd\n",
    "import numpy as np\n",
    "from pylab import rcParams\n",
    "rcParams['figure.figsize'] = 8, 5\n",
    "## for plotting\n",
    "import matplotlib.pyplot as plt\n",
    "import seaborn as sns\n",
    "SEED=2020\n",
    "from sklearn.model_selection import KFold\n",
    "from sklearn.model_selection import cross_val_score\n",
    "kf = KFold(n_splits = 5, random_state = 2, shuffle=True)\n",
    "from sklearn.ensemble import RandomForestRegressor\n",
    "from sklearn.ensemble import RandomForestClassifier\n",
    "from xgboost import XGBClassifier\n",
    "from sklearn.metrics import mean_squared_log_error\n",
    "from sklearn.preprocessing import LabelEncoder\n",
    "from sklearn.feature_selection import RFECV\n",
    "## for statistical tests\n",
    "import scipy\n",
    "import statsmodels.formula.api as smf\n",
    "import statsmodels.api as sm\n",
    "## for machine learning\n",
    "from sklearn import model_selection, preprocessing, feature_selection, ensemble, linear_model, metrics, decomposition\n",
    "## for explainer\n",
    "from lime import lime_tabular\n",
    "## for machine learning\n",
    "from sklearn import model_selection, preprocessing, feature_selection, ensemble, linear_model, metrics, decomposition\n",
    "from collections import Counter\n",
    "from numpy import mean\n",
    "from IPython.core.interactiveshell import InteractiveShell \n",
    "InteractiveShell.ast_node_interactivity = \"all\"\n",
    "import xgboost as xgb\n"
   ]
  },
  {
   "cell_type": "code",
   "execution_count": null,
   "metadata": {
    "_cell_guid": "79c7e3d0-c299-4dcb-8224-4455121ee9b0",
    "_uuid": "d629ff2d2480ee46fbb7e2d37f6b5fab8052498a",
    "execution": {
     "iopub.execute_input": "2020-12-10T14:23:12.103287Z",
     "iopub.status.busy": "2020-12-10T14:23:12.102526Z",
     "iopub.status.idle": "2020-12-10T14:23:12.362559Z",
     "shell.execute_reply": "2020-12-10T14:23:12.363133Z"
    },
    "papermill": {
     "duration": 0.291008,
     "end_time": "2020-12-10T14:23:12.363289",
     "exception": false,
     "start_time": "2020-12-10T14:23:12.072281",
     "status": "completed"
    },
    "tags": []
   },
   "outputs": [],
   "source": [
    "## importing and taking a look for dataset\n",
    "train= pd.read_csv('dataset/train.csv')\n",
    "train.sample(20)"
   ]
  },
  {
   "cell_type": "code",
   "execution_count": null,
   "metadata": {},
   "outputs": [],
   "source": [
    "test = pd.read_csv('dataset/test.csv')\n",
    "test.sample(20)"
   ]
  },
  {
   "cell_type": "code",
   "execution_count": null,
   "metadata": {
    "execution": {
     "iopub.execute_input": "2020-12-10T14:23:12.420781Z",
     "iopub.status.busy": "2020-12-10T14:23:12.420004Z",
     "iopub.status.idle": "2020-12-10T14:23:12.424773Z",
     "shell.execute_reply": "2020-12-10T14:23:12.424064Z"
    },
    "papermill": {
     "duration": 0.035671,
     "end_time": "2020-12-10T14:23:12.424920",
     "exception": false,
     "start_time": "2020-12-10T14:23:12.389249",
     "status": "completed"
    },
    "tags": []
   },
   "outputs": [],
   "source": [
    "train.shape"
   ]
  },
  {
   "cell_type": "code",
   "execution_count": null,
   "metadata": {},
   "outputs": [],
   "source": [
    "test.shape"
   ]
  },
  {
   "cell_type": "code",
   "execution_count": null,
   "metadata": {
    "execution": {
     "iopub.execute_input": "2020-12-10T14:23:12.488193Z",
     "iopub.status.busy": "2020-12-10T14:23:12.487440Z",
     "iopub.status.idle": "2020-12-10T14:23:12.551423Z",
     "shell.execute_reply": "2020-12-10T14:23:12.550659Z"
    },
    "papermill": {
     "duration": 0.099527,
     "end_time": "2020-12-10T14:23:12.551547",
     "exception": false,
     "start_time": "2020-12-10T14:23:12.452020",
     "status": "completed"
    },
    "tags": []
   },
   "outputs": [],
   "source": [
    "one_value_cols = [col for col in train.columns if train[col].nunique() <= 1]\n",
    "print(f'There are {len(one_value_cols)} columns in train dataset with one unique value.')"
   ]
  },
  {
   "cell_type": "code",
   "execution_count": null,
   "metadata": {
    "execution": {
     "iopub.execute_input": "2020-12-10T14:23:12.617296Z",
     "iopub.status.busy": "2020-12-10T14:23:12.616590Z",
     "iopub.status.idle": "2020-12-10T14:23:12.967615Z",
     "shell.execute_reply": "2020-12-10T14:23:12.968187Z"
    },
    "papermill": {
     "duration": 0.389709,
     "end_time": "2020-12-10T14:23:12.968345",
     "exception": false,
     "start_time": "2020-12-10T14:23:12.578636",
     "status": "completed"
    },
    "tags": []
   },
   "outputs": [],
   "source": [
    "# DF before tuning\n",
    "def basic_details(df):\n",
    "    b = pd.DataFrame()\n",
    "    b['Missing value'] = df.isnull().sum()\n",
    "    b['N unique value'] = df.nunique()\n",
    "    b['dtype'] = df.dtypes\n",
    "    return b\n",
    "basic_details(train)"
   ]
  },
  {
   "cell_type": "markdown",
   "metadata": {
    "papermill": {
     "duration": 0.031896,
     "end_time": "2020-12-10T14:23:13.032069",
     "exception": false,
     "start_time": "2020-12-10T14:23:13.000173",
     "status": "completed"
    },
    "tags": []
   },
   "source": [
    " Some preliminary conclusions:\n",
    "  - no missing values in dataset\n",
    "  - 8 object features, rest - binary\n",
    "  - 12 features with 1 unique value"
   ]
  },
  {
   "cell_type": "code",
   "execution_count": null,
   "metadata": {
    "execution": {
     "iopub.execute_input": "2020-12-10T14:23:13.118297Z",
     "iopub.status.busy": "2020-12-10T14:23:13.117236Z",
     "iopub.status.idle": "2020-12-10T14:23:13.120045Z",
     "shell.execute_reply": "2020-12-10T14:23:13.120766Z"
    },
    "papermill": {
     "duration": 0.05798,
     "end_time": "2020-12-10T14:23:13.121002",
     "exception": false,
     "start_time": "2020-12-10T14:23:13.063022",
     "status": "completed"
    },
    "tags": []
   },
   "outputs": [],
   "source": [
    "## drop features with 1 unique value\n",
    "# train.drop(['ID','X11','X107', 'X233', 'X235', 'X268','X289', 'X290','X293', 'X297', 'X330', 'X347'], axis=1, inplace=True)\n",
    "train.drop(one_value_cols, axis=1, inplace=True)\n"
   ]
  },
  {
   "cell_type": "code",
   "execution_count": null,
   "metadata": {
    "execution": {
     "iopub.execute_input": "2020-12-10T14:23:13.206688Z",
     "iopub.status.busy": "2020-12-10T14:23:13.205850Z",
     "iopub.status.idle": "2020-12-10T14:23:13.659719Z",
     "shell.execute_reply": "2020-12-10T14:23:13.658965Z"
    },
    "papermill": {
     "duration": 0.499857,
     "end_time": "2020-12-10T14:23:13.659861",
     "exception": false,
     "start_time": "2020-12-10T14:23:13.160004",
     "status": "completed"
    },
    "tags": []
   },
   "outputs": [],
   "source": [
    "## drop features with low variabiliry\n",
    "variance_treshold = 0.9\n",
    "low_var_cols = [col for col in train.columns if train[col].value_counts(dropna=False, normalize=True).values[0] > variance_treshold]\n",
    "train=train.drop(low_var_cols, axis=1) "
   ]
  },
  {
   "cell_type": "code",
   "execution_count": null,
   "metadata": {
    "execution": {
     "iopub.execute_input": "2020-12-10T14:23:13.941098Z",
     "iopub.status.busy": "2020-12-10T14:23:13.940197Z",
     "iopub.status.idle": "2020-12-10T14:23:13.944450Z",
     "shell.execute_reply": "2020-12-10T14:23:13.943718Z"
    },
    "papermill": {
     "duration": 0.253388,
     "end_time": "2020-12-10T14:23:13.944574",
     "exception": false,
     "start_time": "2020-12-10T14:23:13.691186",
     "status": "completed"
    },
    "tags": []
   },
   "outputs": [],
   "source": [
    "## add some additional features, thanks for this script to @ Vitalii Mokin\n",
    "def feature_creation(df):\n",
    "    for i in ['X0', 'X1', 'X2', 'X3', 'X5', 'X6', 'X8']:\n",
    "        for j in ['X0', 'X1', 'X2', 'X3', 'X5', 'X6', 'X8']:\n",
    "            df[i + \"_\" + j] = df[i].astype('str') + \"_\" + df[j].astype('str')\n",
    "\n",
    "    return df\n",
    "\n",
    "\n",
    "train = feature_creation(train)"
   ]
  },
  {
   "cell_type": "code",
   "execution_count": null,
   "metadata": {
    "execution": {
     "iopub.execute_input": "2020-12-10T14:23:14.013663Z",
     "iopub.status.busy": "2020-12-10T14:23:14.012957Z",
     "iopub.status.idle": "2020-12-10T14:23:14.049138Z",
     "shell.execute_reply": "2020-12-10T14:23:14.048423Z"
    },
    "papermill": {
     "duration": 0.073235,
     "end_time": "2020-12-10T14:23:14.049258",
     "exception": false,
     "start_time": "2020-12-10T14:23:13.976023",
     "status": "completed"
    },
    "tags": []
   },
   "outputs": [],
   "source": [
    "train.sample(5)"
   ]
  },
  {
   "cell_type": "code",
   "execution_count": null,
   "metadata": {
    "execution": {
     "iopub.execute_input": "2020-12-10T14:23:14.124117Z",
     "iopub.status.busy": "2020-12-10T14:23:14.123323Z",
     "iopub.status.idle": "2020-12-10T14:23:14.320425Z",
     "shell.execute_reply": "2020-12-10T14:23:14.319659Z"
    },
    "papermill": {
     "duration": 0.238802,
     "end_time": "2020-12-10T14:23:14.320558",
     "exception": false,
     "start_time": "2020-12-10T14:23:14.081756",
     "status": "completed"
    },
    "tags": []
   },
   "outputs": [],
   "source": [
    "## encode object features to numeric\n",
    "lencoders = {}\n",
    "for col in train.select_dtypes(include=['object']).columns:\n",
    "    lencoders[col] = LabelEncoder()\n",
    "    train[col] = lencoders[col].fit_transform(train[col])\n"
   ]
  },
  {
   "cell_type": "code",
   "execution_count": null,
   "metadata": {
    "execution": {
     "iopub.execute_input": "2020-12-10T14:23:14.391783Z",
     "iopub.status.busy": "2020-12-10T14:23:14.390741Z",
     "iopub.status.idle": "2020-12-10T14:23:14.455633Z",
     "shell.execute_reply": "2020-12-10T14:23:14.454865Z"
    },
    "papermill": {
     "duration": 0.102582,
     "end_time": "2020-12-10T14:23:14.455768",
     "exception": false,
     "start_time": "2020-12-10T14:23:14.353186",
     "status": "completed"
    },
    "tags": []
   },
   "outputs": [],
   "source": [
    "# and drop duplicates\n",
    "train = train.drop_duplicates()\n",
    "# train.T.drop_duplicates().T"
   ]
  },
  {
   "cell_type": "code",
   "execution_count": null,
   "metadata": {
    "execution": {
     "iopub.execute_input": "2020-12-10T14:23:14.527949Z",
     "iopub.status.busy": "2020-12-10T14:23:14.527146Z",
     "iopub.status.idle": "2020-12-10T14:23:14.709499Z",
     "shell.execute_reply": "2020-12-10T14:23:14.708725Z"
    },
    "papermill": {
     "duration": 0.220658,
     "end_time": "2020-12-10T14:23:14.709624",
     "exception": false,
     "start_time": "2020-12-10T14:23:14.488966",
     "status": "completed"
    },
    "tags": []
   },
   "outputs": [],
   "source": [
    "## target with outliers\n",
    "sns.boxplot((train.y))"
   ]
  },
  {
   "cell_type": "code",
   "execution_count": null,
   "metadata": {
    "execution": {
     "iopub.execute_input": "2020-12-10T14:23:14.785159Z",
     "iopub.status.busy": "2020-12-10T14:23:14.783108Z",
     "iopub.status.idle": "2020-12-10T14:23:14.789976Z",
     "shell.execute_reply": "2020-12-10T14:23:14.789241Z"
    },
    "papermill": {
     "duration": 0.04622,
     "end_time": "2020-12-10T14:23:14.790098",
     "exception": false,
     "start_time": "2020-12-10T14:23:14.743878",
     "status": "completed"
    },
    "tags": []
   },
   "outputs": [],
   "source": [
    "# delete some outliers from target feature\n",
    "train = train[(train['y'] <= 136)].reset_index(drop=True)"
   ]
  },
  {
   "cell_type": "code",
   "execution_count": null,
   "metadata": {
    "execution": {
     "iopub.execute_input": "2020-12-10T14:23:14.870084Z",
     "iopub.status.busy": "2020-12-10T14:23:14.869017Z",
     "iopub.status.idle": "2020-12-10T14:23:14.991261Z",
     "shell.execute_reply": "2020-12-10T14:23:14.990473Z"
    },
    "papermill": {
     "duration": 0.166921,
     "end_time": "2020-12-10T14:23:14.991391",
     "exception": false,
     "start_time": "2020-12-10T14:23:14.824470",
     "status": "completed"
    },
    "tags": []
   },
   "outputs": [],
   "source": [
    "## target without outliers\n",
    "sns.boxplot((train.y))"
   ]
  },
  {
   "cell_type": "code",
   "execution_count": null,
   "metadata": {
    "execution": {
     "iopub.execute_input": "2020-12-10T14:23:15.070200Z",
     "iopub.status.busy": "2020-12-10T14:23:15.069425Z",
     "iopub.status.idle": "2020-12-10T14:23:15.072403Z",
     "shell.execute_reply": "2020-12-10T14:23:15.071688Z"
    },
    "papermill": {
     "duration": 0.045418,
     "end_time": "2020-12-10T14:23:15.072524",
     "exception": false,
     "start_time": "2020-12-10T14:23:15.027106",
     "status": "completed"
    },
    "tags": []
   },
   "outputs": [],
   "source": [
    "# target normalization between 0 and 1 values\n",
    "train[\"y\"]=((train[\"y\"]-train[\"y\"].min())/(train[\"y\"].max()-train[\"y\"].min()))"
   ]
  },
  {
   "cell_type": "code",
   "execution_count": null,
   "metadata": {
    "execution": {
     "iopub.execute_input": "2020-12-10T14:23:15.150787Z",
     "iopub.status.busy": "2020-12-10T14:23:15.149748Z",
     "iopub.status.idle": "2020-12-10T14:23:15.159202Z",
     "shell.execute_reply": "2020-12-10T14:23:15.158477Z"
    },
    "papermill": {
     "duration": 0.051087,
     "end_time": "2020-12-10T14:23:15.159322",
     "exception": false,
     "start_time": "2020-12-10T14:23:15.108235",
     "status": "completed"
    },
    "tags": []
   },
   "outputs": [],
   "source": [
    "## result\n",
    "train.y.describe()"
   ]
  },
  {
   "cell_type": "code",
   "execution_count": null,
   "metadata": {
    "execution": {
     "iopub.execute_input": "2020-12-10T14:23:15.255889Z",
     "iopub.status.busy": "2020-12-10T14:23:15.250700Z",
     "iopub.status.idle": "2020-12-10T14:23:15.414124Z",
     "shell.execute_reply": "2020-12-10T14:23:15.413348Z"
    },
    "papermill": {
     "duration": 0.218538,
     "end_time": "2020-12-10T14:23:15.414262",
     "exception": false,
     "start_time": "2020-12-10T14:23:15.195724",
     "status": "completed"
    },
    "tags": []
   },
   "outputs": [],
   "source": [
    "## let's reduce memory for clear mind\n",
    "\n",
    "def reduce_memory_usage(df):\n",
    "    \"\"\" The function will reduce memory of dataframe\n",
    "    Note: Apply this function after removing missing value\"\"\"\n",
    "    intial_memory = df.memory_usage().sum()/1024**2\n",
    "    print('Intial memory usage:',intial_memory,'MB')\n",
    "    for col in df.columns:\n",
    "        mn = df[col].min()\n",
    "        mx = df[col].max()\n",
    "        if df[col].dtype != object:            \n",
    "            if df[col].dtype == int:\n",
    "                if mn >=0:\n",
    "                    if mx < np.iinfo(np.uint8).max:\n",
    "                        df[col] = df[col].astype(np.uint8)\n",
    "                    elif mx < np.iinfo(np.uint16).max:\n",
    "                        df[col] = df[col].astype(np.uint16)\n",
    "                    elif mx < np.iinfo(np.uint32).max:\n",
    "                        df[col] = df[col].astype(np.uint32)\n",
    "                    elif mx < np.iinfo(np.uint64).max:\n",
    "                        df[col] = df[col].astype(np.uint64)\n",
    "                else:\n",
    "                    if mn > np.iinfo(np.int8).min and mx < np.iinfo(np.int8).max:\n",
    "                        df[col] = df[col].astype(np.int8)\n",
    "                    elif mn > np.iinfo(np.int16).min and mx < np.iinfo(np.int16).max:\n",
    "                        df[col] = df[col].astype(np.int16)\n",
    "                    elif mn > np.iinfo(np.int32).min and mx < np.iinfo(np.int32).max:\n",
    "                        df[col] = df[col].astype(np.int32)\n",
    "                    elif mn > np.iinfo(np.int64).min and mx < np.iinfo(np.int64).max:\n",
    "                        df[col] = df[col].astype(np.int64)\n",
    "            if df[col].dtype == float:\n",
    "                df[col] =df[col].astype(np.float32)\n",
    "    \n",
    "    red_memory = df.memory_usage().sum()/1024**2\n",
    "    print('Memory usage after complition: ',red_memory,'MB')\n",
    "    \n",
    "reduce_memory_usage(train)"
   ]
  },
  {
   "cell_type": "code",
   "execution_count": null,
   "metadata": {
    "execution": {
     "iopub.execute_input": "2020-12-10T14:23:15.500353Z",
     "iopub.status.busy": "2020-12-10T14:23:15.499306Z",
     "iopub.status.idle": "2020-12-10T14:23:15.749794Z",
     "shell.execute_reply": "2020-12-10T14:23:15.749049Z"
    },
    "papermill": {
     "duration": 0.298957,
     "end_time": "2020-12-10T14:23:15.749937",
     "exception": false,
     "start_time": "2020-12-10T14:23:15.450980",
     "status": "completed"
    },
    "tags": []
   },
   "outputs": [],
   "source": [
    "# Threshold for removing correlated variables, thanks to @ Vitalii Mokin\n",
    "threshold = 0.9  ## optimal level 0.9\n",
    "# Absolute value correlation matrix\n",
    "corr_matrix = train.corr().abs().round(2)\n",
    "upper = corr_matrix.where(np.triu(np.ones(corr_matrix.shape), k=1).astype(np.bool))\n",
    "# Select columns with Pearson's correlations above threshold\n",
    "collinear_features = [column for column in upper.columns if any(upper[column] > threshold)]\n",
    "features_filtered = train.drop(columns = collinear_features)\n",
    "print('The number of features that passed the collinearity threshold: ', features_filtered.shape[1])\n",
    "features_best = []\n",
    "features_best.append(features_filtered.columns.tolist())"
   ]
  },
  {
   "cell_type": "code",
   "execution_count": null,
   "metadata": {
    "execution": {
     "iopub.execute_input": "2020-12-10T14:23:15.852282Z",
     "iopub.status.busy": "2020-12-10T14:23:15.842314Z",
     "iopub.status.idle": "2020-12-10T14:23:15.883434Z",
     "shell.execute_reply": "2020-12-10T14:23:15.882670Z"
    },
    "papermill": {
     "duration": 0.096319,
     "end_time": "2020-12-10T14:23:15.883559",
     "exception": false,
     "start_time": "2020-12-10T14:23:15.787240",
     "status": "completed"
    },
    "tags": []
   },
   "outputs": [],
   "source": [
    "# updated dataframe\n",
    "train=train[features_best[0]]\n",
    "train.sample(20)"
   ]
  },
  {
   "cell_type": "code",
   "execution_count": null,
   "metadata": {
    "execution": {
     "iopub.execute_input": "2020-12-10T14:23:15.976099Z",
     "iopub.status.busy": "2020-12-10T14:23:15.975001Z",
     "iopub.status.idle": "2020-12-10T14:23:16.025317Z",
     "shell.execute_reply": "2020-12-10T14:23:16.024543Z"
    },
    "papermill": {
     "duration": 0.101901,
     "end_time": "2020-12-10T14:23:16.025441",
     "exception": false,
     "start_time": "2020-12-10T14:23:15.923540",
     "status": "completed"
    },
    "tags": []
   },
   "outputs": [],
   "source": [
    "X = train.drop('y', axis=1)\n",
    "y = train.y\n",
    "Xtest = test\n",
    "ytest = None\n",
    "X['n0'] = (X == 0).sum(axis=1) ## one add feature\n",
    "# scale features between 1 and 0\n",
    "scaler = preprocessing.MinMaxScaler()\n",
    "X = pd.DataFrame(scaler.fit_transform(X), columns = X.columns)\n",
    "X.sample(10)"
   ]
  },
  {
   "cell_type": "code",
   "execution_count": null,
   "metadata": {
    "execution": {
     "iopub.execute_input": "2020-12-10T14:23:16.134561Z",
     "iopub.status.busy": "2020-12-10T14:23:16.129663Z",
     "iopub.status.idle": "2020-12-10T14:23:17.963531Z",
     "shell.execute_reply": "2020-12-10T14:23:17.964294Z"
    },
    "papermill": {
     "duration": 1.891833,
     "end_time": "2020-12-10T14:23:17.964452",
     "exception": false,
     "start_time": "2020-12-10T14:23:16.072619",
     "status": "completed"
    },
    "tags": []
   },
   "outputs": [],
   "source": [
    "# baseline score\n",
    "X_train = X \n",
    "X_test = Xtest  \n",
    "y_train = y\n",
    "y_test = ytest\n",
    "# prepare the model with target scaling\n",
    "rf = RandomForestRegressor(max_depth=4, n_estimators=5, random_state=SEED)\n",
    "# evaluate model\n",
    "cv = KFold(n_splits=10, shuffle=True, random_state=SEED)\n",
    "scores = cross_val_score(rf, X, y, scoring='r2', cv=cv, n_jobs=-1)\n",
    "# summarize the result\n",
    "s_mean = mean(scores)\n",
    "print('Mean R2: %.3f' % (s_mean))"
   ]
  },
  {
   "cell_type": "code",
   "execution_count": null,
   "metadata": {
    "execution": {
     "iopub.execute_input": "2020-12-10T14:23:18.060145Z",
     "iopub.status.busy": "2020-12-10T14:23:18.059119Z",
     "iopub.status.idle": "2020-12-10T14:28:49.356226Z",
     "shell.execute_reply": "2020-12-10T14:28:49.356870Z"
    },
    "papermill": {
     "duration": 331.351493,
     "end_time": "2020-12-10T14:28:49.357083",
     "exception": false,
     "start_time": "2020-12-10T14:23:18.005590",
     "status": "completed"
    },
    "tags": []
   },
   "outputs": [],
   "source": [
    "## Feature ranking with recursive feature elimination and cross-validated selection of the best number of features\n",
    "# regressor =RandomForestRegressor(random_state=SEED)\n",
    "# regressor = DecisionTreeRegressor()\n",
    "regressor = xgb.XGBRegressor()\n",
    "selector = RFECV(regressor, step = 1, cv=cv, n_jobs=-1,verbose=1,  scoring='r2')\n",
    "selector.fit(X, y)\n",
    "print('The optimal number of features is {}'.format(selector.n_features_))\n",
    "features_rfecv = [f for f,s in zip(X, selector.support_) if s]\n",
    "print('The selected features are:')\n",
    "print ('{}'.format(features_rfecv)) ## optimal features list"
   ]
  },
  {
   "cell_type": "code",
   "execution_count": null,
   "metadata": {
    "execution": {
     "iopub.execute_input": "2020-12-10T14:28:49.536029Z",
     "iopub.status.busy": "2020-12-10T14:28:49.533258Z",
     "iopub.status.idle": "2020-12-10T14:28:49.872151Z",
     "shell.execute_reply": "2020-12-10T14:28:49.871436Z"
    },
    "papermill": {
     "duration": 0.43032,
     "end_time": "2020-12-10T14:28:49.872271",
     "exception": false,
     "start_time": "2020-12-10T14:28:49.441951",
     "status": "completed"
    },
    "tags": []
   },
   "outputs": [],
   "source": [
    "plt.figure()\n",
    "plt.xlabel(\"Number of features selected\")\n",
    "plt.ylabel(\"Cross validation score (R2)\")\n",
    "plt.plot(range(1, len(selector.grid_scores_) + 1), selector.grid_scores_)\n",
    "plt.savefig('feature_auc_nselected.png', bbox_inches='tight', pad_inches=1)"
   ]
  },
  {
   "cell_type": "code",
   "execution_count": null,
   "metadata": {
    "execution": {
     "iopub.execute_input": "2020-12-10T14:28:50.031687Z",
     "iopub.status.busy": "2020-12-10T14:28:50.030545Z",
     "iopub.status.idle": "2020-12-10T14:28:50.363570Z",
     "shell.execute_reply": "2020-12-10T14:28:50.364613Z"
    },
    "papermill": {
     "duration": 0.419524,
     "end_time": "2020-12-10T14:28:50.364855",
     "exception": false,
     "start_time": "2020-12-10T14:28:49.945331",
     "status": "completed"
    },
    "tags": []
   },
   "outputs": [],
   "source": [
    "## let's compare RF after feature selection\n",
    "rf = RandomForestRegressor(max_depth=3, n_estimators=10, random_state=SEED)\n",
    "X_rfe = X[features_rfecv]\n",
    "rf.fit(X_rfe, y)\n",
    "# acc_log_train = round(rf.score(X_train_rfe, y_train)*100,2) \n",
    "# acc_log_test = round(rf.score(X_test[features_rfecv],y_test)*100,2)\n",
    "scores = cross_val_score(rf, X_rfe, y, cv=cv, scoring = 'r2')\n",
    "# print(\"Training Accuracy: % {}\".format(acc_log_train))\n",
    "# print(\"Testing Accuracy: % {}\".format(acc_log_test))\n",
    "print(\"RF based on selected dataset\")\n",
    "print(\"FR CV Accuracy Score after selection:\", scores.mean().round(3))"
   ]
  },
  {
   "cell_type": "markdown",
   "metadata": {
    "papermill": {
     "duration": 0.073733,
     "end_time": "2020-12-10T14:28:50.514238",
     "exception": false,
     "start_time": "2020-12-10T14:28:50.440505",
     "status": "completed"
    },
    "tags": []
   },
   "source": [
    "So we got list of 4 best features with the same model score"
   ]
  },
  {
   "cell_type": "code",
   "execution_count": null,
   "metadata": {
    "execution": {
     "iopub.execute_input": "2020-12-10T14:28:50.669802Z",
     "iopub.status.busy": "2020-12-10T14:28:50.668861Z",
     "iopub.status.idle": "2020-12-10T14:28:57.128710Z",
     "shell.execute_reply": "2020-12-10T14:28:57.127978Z"
    },
    "papermill": {
     "duration": 6.540443,
     "end_time": "2020-12-10T14:28:57.128856",
     "exception": false,
     "start_time": "2020-12-10T14:28:50.588413",
     "status": "completed"
    },
    "tags": []
   },
   "outputs": [],
   "source": [
    "## feature importance with eli5 \n",
    "import eli5 \n",
    "import shap \n",
    "from eli5.sklearn import PermutationImportance\n",
    "rf.fit(X_rfe, y)\n",
    "perm = PermutationImportance(rf, random_state=SEED).fit(X_rfe, y)\n",
    "eli5.show_weights(perm, feature_names = X_rfe.columns.tolist())"
   ]
  },
  {
   "cell_type": "code",
   "execution_count": null,
   "metadata": {
    "execution": {
     "iopub.execute_input": "2020-12-10T14:28:57.288163Z",
     "iopub.status.busy": "2020-12-10T14:28:57.287378Z",
     "iopub.status.idle": "2020-12-10T14:28:57.444887Z",
     "shell.execute_reply": "2020-12-10T14:28:57.444169Z"
    },
    "papermill": {
     "duration": 0.238883,
     "end_time": "2020-12-10T14:28:57.445010",
     "exception": false,
     "start_time": "2020-12-10T14:28:57.206127",
     "status": "completed"
    },
    "tags": []
   },
   "outputs": [],
   "source": [
    "explainer = shap.TreeExplainer(rf)\n",
    "shap_values = explainer.shap_values(X_rfe)\n",
    "shap.summary_plot(shap_values, X_rfe, plot_type=\"bar\")"
   ]
  },
  {
   "cell_type": "code",
   "execution_count": null,
   "metadata": {
    "execution": {
     "iopub.execute_input": "2020-12-10T14:28:57.607266Z",
     "iopub.status.busy": "2020-12-10T14:28:57.601664Z",
     "iopub.status.idle": "2020-12-10T14:28:57.978663Z",
     "shell.execute_reply": "2020-12-10T14:28:57.977962Z"
    },
    "papermill": {
     "duration": 0.457931,
     "end_time": "2020-12-10T14:28:57.978784",
     "exception": false,
     "start_time": "2020-12-10T14:28:57.520853",
     "status": "completed"
    },
    "tags": []
   },
   "outputs": [],
   "source": [
    "\n",
    "shap.summary_plot(shap_values, X_rfe)"
   ]
  },
  {
   "cell_type": "markdown",
   "metadata": {
    "papermill": {
     "duration": 0.07671,
     "end_time": "2020-12-10T14:28:58.133093",
     "exception": false,
     "start_time": "2020-12-10T14:28:58.056383",
     "status": "completed"
    },
    "tags": []
   },
   "source": [
    "So we can spend our time taking in account only this 4 features during car tests"
   ]
  },
  {
   "cell_type": "code",
   "execution_count": null,
   "metadata": {
    "execution": {
     "iopub.execute_input": "2020-12-10T14:28:58.301568Z",
     "iopub.status.busy": "2020-12-10T14:28:58.300403Z",
     "iopub.status.idle": "2020-12-10T14:28:58.308625Z",
     "shell.execute_reply": "2020-12-10T14:28:58.307920Z"
    },
    "papermill": {
     "duration": 0.097841,
     "end_time": "2020-12-10T14:28:58.308751",
     "exception": false,
     "start_time": "2020-12-10T14:28:58.210910",
     "status": "completed"
    },
    "tags": []
   },
   "outputs": [],
   "source": [
    "# Function to calculate mean absolute error\n",
    "def mae(y_true, y_pred):\n",
    "    return np.mean(abs(y_true - y_pred))\n",
    "\n",
    "baseline_guess = np.median(y)\n",
    "\n",
    "print('The baseline guess based on Y-median value %0.2f' % baseline_guess)\n",
    "print(\"Baseline Performance based on Y-median value: MAE = %0.4f\" % mae(y_test, baseline_guess))\n",
    "print(\"Baseline Performance based on Random Forest RFECV-model: MAE = %0.4f\" % mae(y_test, rf.predict(X_test[features_rfecv])))"
   ]
  },
  {
   "cell_type": "code",
   "execution_count": null,
   "metadata": {},
   "outputs": [],
   "source": [
    "#output = pd.DataFrame({'ID': test.ID, 'y': y_pred})\n",
    "#output.to_csv('mercedes_benz_recursive_feature_final_submission.csv', index=False)"
   ]
  }
 ],
 "metadata": {
  "kernelspec": {
   "display_name": "Python 3",
   "language": "python",
   "name": "python3"
  },
  "language_info": {
   "codemirror_mode": {
    "name": "ipython",
    "version": 3
   },
   "file_extension": ".py",
   "mimetype": "text/x-python",
   "name": "python",
   "nbconvert_exporter": "python",
   "pygments_lexer": "ipython3",
   "version": "3.7.11"
  },
  "papermill": {
   "duration": 354.918729,
   "end_time": "2020-12-10T14:28:59.419043",
   "environment_variables": {},
   "exception": null,
   "input_path": "__notebook__.ipynb",
   "output_path": "__notebook__.ipynb",
   "parameters": {},
   "start_time": "2020-12-10T14:23:04.500314",
   "version": "2.1.0"
  }
 },
 "nbformat": 4,
 "nbformat_minor": 4
}
